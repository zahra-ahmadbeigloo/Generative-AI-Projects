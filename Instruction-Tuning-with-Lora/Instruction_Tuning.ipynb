{
  "nbformat": 4,
  "nbformat_minor": 0,
  "metadata": {
    "colab": {
      "provenance": []
    },
    "kernelspec": {
      "name": "python3",
      "display_name": "Python 3"
    },
    "language_info": {
      "name": "python"
    }
  },
  "cells": [
    {
      "cell_type": "markdown",
      "source": [
        "# Instruction-Tuning with LLMs"
      ],
      "metadata": {
        "id": "lmOs3iKv7MQM"
      }
    },
    {
      "cell_type": "code",
      "execution_count": 2,
      "metadata": {
        "id": "ge4S69GU30Bq"
      },
      "outputs": [],
      "source": [
        "# !pip install -Uq datasets transformers peft trl evaluate tqdm sacrebleu seaborn pandas matplotlib\n",
        "# !pip install -Uq torch torchvision torchaudio --index-url https://download.pytorch.org/whl/cpu\n",
        "# !pip install --upgrade evaluate\n",
        "# !pip install trl==0.9.6"
      ]
    },
    {
      "cell_type": "code",
      "source": [
        "import warnings\n",
        "warnings.filterwarnings('ignore')\n",
        "warnings.simplefilter('ignore')\n",
        "\n",
        "from transformers import AutoModelForCausalLM, AutoTokenizer, pipeline\n",
        "from datasets import load_dataset\n",
        "import torch\n",
        "from torch.utils.data import Dataset\n",
        "from tqdm import tqdm\n",
        "import evaluate\n",
        "from trl import SFTConfig, SFTTrainer, DataCollatorForCompletionOnlyLM\n",
        "\n",
        "from peft import get_peft_model, LoraConfig, TaskType\n",
        "\n",
        "import pickle\n",
        "import json\n",
        "import matplotlib.pyplot as plt\n",
        "\n",
        "from urllib.request import urlopen\n",
        "import io"
      ],
      "metadata": {
        "id": "g_NIDiozX5b9"
      },
      "execution_count": 3,
      "outputs": []
    },
    {
      "cell_type": "code",
      "source": [
        "device = torch.device('cuda' if torch.cuda.is_available() else 'cpu')"
      ],
      "metadata": {
        "id": "MZH_bQmoYDv7"
      },
      "execution_count": 4,
      "outputs": []
    },
    {
      "cell_type": "markdown",
      "source": [
        "## Dataset"
      ],
      "metadata": {
        "id": "fIQnctNmZ628"
      }
    },
    {
      "cell_type": "markdown",
      "source": [
        "CodeAlpaca 20k dataset:"
      ],
      "metadata": {
        "id": "ZsEM8ml1Yjbb"
      }
    },
    {
      "cell_type": "code",
      "source": [
        "!wget https://cf-courses-data.s3.us.cloud-object-storage.appdomain.cloud/WzOT_CwDALWedTtXjwH7bA/CodeAlpaca-20k.json"
      ],
      "metadata": {
        "colab": {
          "base_uri": "https://localhost:8080/",
          "height": 0
        },
        "id": "dVntONpzYmcD",
        "outputId": "56597674-112d-4922-b7a3-1405ce17e1ba"
      },
      "execution_count": 5,
      "outputs": [
        {
          "output_type": "stream",
          "name": "stdout",
          "text": [
            "--2025-07-11 13:29:29--  https://cf-courses-data.s3.us.cloud-object-storage.appdomain.cloud/WzOT_CwDALWedTtXjwH7bA/CodeAlpaca-20k.json\n",
            "Resolving cf-courses-data.s3.us.cloud-object-storage.appdomain.cloud (cf-courses-data.s3.us.cloud-object-storage.appdomain.cloud)... 169.63.118.104\n",
            "Connecting to cf-courses-data.s3.us.cloud-object-storage.appdomain.cloud (cf-courses-data.s3.us.cloud-object-storage.appdomain.cloud)|169.63.118.104|:443... connected.\n",
            "HTTP request sent, awaiting response... 200 OK\n",
            "Length: 6957007 (6.6M) [application/json]\n",
            "Saving to: ‘CodeAlpaca-20k.json.1’\n",
            "\n",
            "CodeAlpaca-20k.json 100%[===================>]   6.63M  6.82MB/s    in 1.0s    \n",
            "\n",
            "2025-07-11 13:29:31 (6.82 MB/s) - ‘CodeAlpaca-20k.json.1’ saved [6957007/6957007]\n",
            "\n"
          ]
        }
      ]
    },
    {
      "cell_type": "code",
      "source": [
        "dataset = load_dataset(\"json\", data_files=\"CodeAlpaca-20k.json\", split=\"train\")\n",
        "dataset"
      ],
      "metadata": {
        "colab": {
          "base_uri": "https://localhost:8080/",
          "height": 0
        },
        "id": "nQ5A2InsYpUT",
        "outputId": "b0403c4a-6b46-43ba-c7cb-574128755a03"
      },
      "execution_count": 6,
      "outputs": [
        {
          "output_type": "execute_result",
          "data": {
            "text/plain": [
              "Dataset({\n",
              "    features: ['output', 'instruction', 'input'],\n",
              "    num_rows: 20022\n",
              "})"
            ]
          },
          "metadata": {},
          "execution_count": 6
        }
      ]
    },
    {
      "cell_type": "code",
      "source": [
        "dataset[1000]"
      ],
      "metadata": {
        "colab": {
          "base_uri": "https://localhost:8080/",
          "height": 0
        },
        "id": "aWBelP3cY5sb",
        "outputId": "276002e3-cbed-4b71-dcf0-5b516178ccd6"
      },
      "execution_count": 7,
      "outputs": [
        {
          "output_type": "execute_result",
          "data": {
            "text/plain": [
              "{'output': 's = \"Hello world\" \\ns = s[::-1] \\nprint(s)',\n",
              " 'instruction': 'Reverse the string given in the input',\n",
              " 'input': 'Hello world'}"
            ]
          },
          "metadata": {},
          "execution_count": 7
        }
      ]
    },
    {
      "cell_type": "markdown",
      "source": [
        " Just focus on the examples that do not have any input:"
      ],
      "metadata": {
        "id": "NPPSdGDVY-aT"
      }
    },
    {
      "cell_type": "code",
      "source": [
        "dataset = dataset.filter(lambda example: example[\"input\"] == '')\n",
        "# Prevents the model from seeing examples in the same fixed order each time.\n",
        "dataset = dataset.shuffle(seed=42)"
      ],
      "metadata": {
        "id": "xjw27LpcZA3Q"
      },
      "execution_count": 8,
      "outputs": []
    },
    {
      "cell_type": "code",
      "source": [
        "dataset_split = dataset.train_test_split(test_size=0.2, seed=42)\n",
        "train_dataset = dataset_split['train']\n",
        "test_dataset = dataset_split['test']\n",
        "dataset_split"
      ],
      "metadata": {
        "colab": {
          "base_uri": "https://localhost:8080/",
          "height": 0
        },
        "id": "8xiU7LS9ZmcM",
        "outputId": "00313a8e-c83e-4246-dc1b-02f5149b0f7a"
      },
      "execution_count": 9,
      "outputs": [
        {
          "output_type": "execute_result",
          "data": {
            "text/plain": [
              "DatasetDict({\n",
              "    train: Dataset({\n",
              "        features: ['output', 'instruction', 'input'],\n",
              "        num_rows: 7811\n",
              "    })\n",
              "    test: Dataset({\n",
              "        features: ['output', 'instruction', 'input'],\n",
              "        num_rows: 1953\n",
              "    })\n",
              "})"
            ]
          },
          "metadata": {},
          "execution_count": 9
        }
      ]
    },
    {
      "cell_type": "code",
      "source": [
        "# Select a small set of data for the resource limitation\n",
        "tiny_test_dataset=test_dataset.select(range(10))\n",
        "tiny_train_dataset=train_dataset.select(range(10))"
      ],
      "metadata": {
        "id": "3N-i9z7TZ2nD"
      },
      "execution_count": 10,
      "outputs": []
    },
    {
      "cell_type": "markdown",
      "source": [
        "## Model and tokenizer"
      ],
      "metadata": {
        "id": "va-ac10EZ5K7"
      }
    },
    {
      "cell_type": "code",
      "source": [
        "model = AutoModelForCausalLM.from_pretrained(\"facebook/opt-350m\").to(device)\n",
        "tokenizer = AutoTokenizer.from_pretrained(\"facebook/opt-350m\", padding_side='left')"
      ],
      "metadata": {
        "id": "E_8tzRNAZ54H"
      },
      "execution_count": 11,
      "outputs": []
    },
    {
      "cell_type": "code",
      "source": [
        "tokenizer.eos_token"
      ],
      "metadata": {
        "colab": {
          "base_uri": "https://localhost:8080/",
          "height": 36
        },
        "id": "EapQgAm3alrz",
        "outputId": "4bfc71c9-190d-45ef-c1b7-6dd8dec4d0bc"
      },
      "execution_count": 12,
      "outputs": [
        {
          "output_type": "execute_result",
          "data": {
            "text/plain": [
              "'</s>'"
            ],
            "application/vnd.google.colaboratory.intrinsic+json": {
              "type": "string"
            }
          },
          "metadata": {},
          "execution_count": 12
        }
      ]
    },
    {
      "cell_type": "markdown",
      "source": [
        "## Preprocessing the data"
      ],
      "metadata": {
        "id": "CqvvKxyPanHU"
      }
    },
    {
      "cell_type": "code",
      "source": [
        "def formatting_prompts_func(mydataset):\n",
        "    output_texts = []\n",
        "    for i in range(len(mydataset['instruction'])):\n",
        "        text = (f\"### Instruction:\\n{mydataset['instruction'][i]}\"\n",
        "                f\"\\n\\n### Response:\\n{mydataset['output'][i]}</s>\")\n",
        "        output_texts.append(text)\n",
        "    return output_texts\n",
        "\n",
        "\n",
        "def formatting_prompts_func_no_response(mydataset):\n",
        "    output_texts = []\n",
        "    for i in range(len(mydataset['instruction'])):\n",
        "        text = (f\"### Instruction:\\n{mydataset['instruction'][i]}\"\n",
        "                f\"\\n\\n### Response:\\n\")\n",
        "        output_texts.append(text)\n",
        "    return output_texts"
      ],
      "metadata": {
        "id": "Ru6igjYTan09"
      },
      "execution_count": 13,
      "outputs": []
    },
    {
      "cell_type": "code",
      "source": [
        "expected_outputs = []\n",
        "instructions_with_responses = formatting_prompts_func(test_dataset)\n",
        "instructions = formatting_prompts_func_no_response(test_dataset)\n",
        "\n",
        "for i in tqdm(range(len(instructions_with_responses))):\n",
        "    tokenized_instruction_with_response = tokenizer(instructions_with_responses[i], return_tensors=\"pt\", max_length=1024, truncation=True, padding=False)\n",
        "    tokenized_instruction = tokenizer(instructions[i], return_tensors=\"pt\")\n",
        "    expected_output = tokenizer.decode(tokenized_instruction_with_response['input_ids'][0][len(tokenized_instruction['input_ids'][0])-1:], skip_special_tokens=True)\n",
        "    expected_outputs.append(expected_output)"
      ],
      "metadata": {
        "colab": {
          "base_uri": "https://localhost:8080/",
          "height": 0
        },
        "id": "lCtayqKaazPz",
        "outputId": "539cf1b0-a1bc-4f07-eb41-e1f42f649bfc"
      },
      "execution_count": 14,
      "outputs": [
        {
          "output_type": "stream",
          "name": "stderr",
          "text": [
            "100%|██████████| 1953/1953 [00:01<00:00, 1207.48it/s]\n"
          ]
        }
      ]
    },
    {
      "cell_type": "code",
      "source": [
        "print('Instructions:\\n' + instructions[0] + \"-------\")\n",
        "print('Instructions_with_responses:\\n' + instructions_with_responses[0]+\"-------\")\n",
        "print('Expected_outputs' + expected_outputs[0]+\"-------\")"
      ],
      "metadata": {
        "colab": {
          "base_uri": "https://localhost:8080/",
          "height": 0
        },
        "id": "hWMElK8ra5nb",
        "outputId": "db159c29-ed24-4f52-81ea-a0fc759cd93b"
      },
      "execution_count": 15,
      "outputs": [
        {
          "output_type": "stream",
          "name": "stdout",
          "text": [
            "Instructions:\n",
            "### Instruction:\n",
            "Name the most important benefit of using a database system.\n",
            "\n",
            "### Response:\n",
            "-------\n",
            "Instructions_with_responses:\n",
            "### Instruction:\n",
            "Name the most important benefit of using a database system.\n",
            "\n",
            "### Response:\n",
            "The most important benefit of using a database system is the ability to store and retrieve data quickly and easily. Database systems also provide support for data security, data integrity, and concurrently accessing and modifying data from multiple systems.</s>-------\n",
            "Expected_outputs\n",
            "The most important benefit of using a database system is the ability to store and retrieve data quickly and easily. Database systems also provide support for data security, data integrity, and concurrently accessing and modifying data from multiple systems.-------\n"
          ]
        }
      ]
    },
    {
      "cell_type": "markdown",
      "source": [
        "convert the instructions list into a torch `Dataset`:"
      ],
      "metadata": {
        "id": "EAxCcmHUbVIL"
      }
    },
    {
      "cell_type": "code",
      "source": [
        "class ListDataset(Dataset):\n",
        "    def __init__(self, original_list):\n",
        "        self.original_list = original_list\n",
        "\n",
        "    def __len__(self):\n",
        "        return len(self.original_list)\n",
        "\n",
        "    def __getitem__(self, i):\n",
        "        return self.original_list[i]\n",
        "\n",
        "instructions_torch = ListDataset(instructions)"
      ],
      "metadata": {
        "id": "O5__M7VybXbi"
      },
      "execution_count": 16,
      "outputs": []
    },
    {
      "cell_type": "markdown",
      "source": [
        "## Test the base model"
      ],
      "metadata": {
        "id": "0XEV513ibbxM"
      }
    },
    {
      "cell_type": "code",
      "source": [
        "gen_pipeline = pipeline(\"text-generation\",\n",
        "                        model=model,\n",
        "                        tokenizer=tokenizer,\n",
        "                        device=device,\n",
        "                        batch_size=2,\n",
        "                        max_length=50,\n",
        "                        truncation=True,\n",
        "                        padding=False,\n",
        "                        return_full_text=False)"
      ],
      "metadata": {
        "colab": {
          "base_uri": "https://localhost:8080/",
          "height": 0
        },
        "id": "kFHUJfCFbcd5",
        "outputId": "fa22cd14-8584-47b6-e6b3-8058d54d4c1e"
      },
      "execution_count": 17,
      "outputs": [
        {
          "output_type": "stream",
          "name": "stderr",
          "text": [
            "Device set to use cpu\n"
          ]
        }
      ]
    },
    {
      "cell_type": "markdown",
      "source": [
        "Due to resource limitation, only apply the function on 3 records using `instructions_torch[:10]` and `max_length=50`:\n"
      ],
      "metadata": {
        "id": "lA_AWxo-dQOT"
      }
    },
    {
      "cell_type": "code",
      "source": [
        "# leverages the pre-defined generation pipeline to generate outputs using the model\n",
        "tokenizer.padding_side = 'left'\n",
        "\n",
        "with torch.no_grad():\n",
        "  # len(instructions_torch) = 1953\n",
        "    pipeline_iterator= gen_pipeline(instructions_torch[:3], max_length=50, early_stopping=True)\n",
        "\n",
        "generated_outputs_base = []\n",
        "for text in pipeline_iterator:\n",
        "    generated_outputs_base.append(text[0][\"generated_text\"])"
      ],
      "metadata": {
        "colab": {
          "base_uri": "https://localhost:8080/",
          "height": 0
        },
        "id": "c9KZaWs7bkcz",
        "outputId": "a960dba5-cb43-47eb-908e-ab1caa5fc0e6"
      },
      "execution_count": 18,
      "outputs": [
        {
          "output_type": "stream",
          "name": "stderr",
          "text": [
            "The following generation flags are not valid and may be ignored: ['early_stopping']. Set `TRANSFORMERS_VERBOSITY=info` for more details.\n",
            "The following generation flags are not valid and may be ignored: ['early_stopping']. Set `TRANSFORMERS_VERBOSITY=info` for more details.\n"
          ]
        }
      ]
    },
    {
      "cell_type": "markdown",
      "source": [
        "Generated responses for the whole dataset:"
      ],
      "metadata": {
        "id": "mXB2K4lmeppa"
      }
    },
    {
      "cell_type": "code",
      "source": [
        "urlopened = urlopen('https://cf-courses-data.s3.us.cloud-object-storage.appdomain.cloud/VvQRrSqS1P0_GobqtL-SKA/instruction-tuning-generated-outputs-base.pkl')\n",
        "generated_outputs_base = pickle.load(io.BytesIO(urlopened.read()))"
      ],
      "metadata": {
        "id": "W3HXS_VlesmM"
      },
      "execution_count": 19,
      "outputs": []
    },
    {
      "cell_type": "code",
      "source": [
        "for i in range(1):\n",
        "    print('Instruction '+ str(i+1) +': ')\n",
        "    print(instructions[i])\n",
        "    print('------\\n')\n",
        "    print('Expected response '+ str(i+1) +': ')\n",
        "    print(expected_outputs[i])\n",
        "    print('------\\n')\n",
        "    print('Generated response '+ str(i+1) +': ')\n",
        "    print(generated_outputs_base[i])\n",
        "    print('------\\n')"
      ],
      "metadata": {
        "colab": {
          "base_uri": "https://localhost:8080/",
          "height": 0
        },
        "id": "O4AoEKsfeza6",
        "outputId": "5047cae0-92a0-401a-ebab-1deb602c6fd7"
      },
      "execution_count": 20,
      "outputs": [
        {
          "output_type": "stream",
          "name": "stdout",
          "text": [
            "Instruction 1: \n",
            "### Instruction:\n",
            "Name the most important benefit of using a database system.\n",
            "\n",
            "### Response:\n",
            "\n",
            "------\n",
            "\n",
            "Expected response 1: \n",
            "\n",
            "The most important benefit of using a database system is the ability to store and retrieve data quickly and easily. Database systems also provide support for data security, data integrity, and concurrently accessing and modifying data from multiple systems.\n",
            "------\n",
            "\n",
            "Generated response 1: \n",
            "Thank you for your question.\n",
            "\n",
            "### Response:\n",
            "Thank you for your question.\n",
            "\n",
            "### Response:\n",
            "Thank you for your question.\n",
            "\n",
            "### Response:\n",
            "Thank you for your question.\n",
            "\n",
            "### Response:\n",
            "Thank you for your question.\n",
            "\n",
            "### Response:\n",
            "Thank you for your question.\n",
            "------\n",
            "\n"
          ]
        }
      ]
    },
    {
      "cell_type": "markdown",
      "source": [
        "## SacreBLEU score"
      ],
      "metadata": {
        "id": "ZhhyDZh-fBPK"
      }
    },
    {
      "cell_type": "code",
      "source": [
        "sacrebleu = evaluate.load(\"sacrebleu\")\n",
        "results_base = sacrebleu.compute(predictions=generated_outputs_base, references=expected_outputs)\n",
        "print(list(results_base.keys()))\n",
        "print(round(results_base[\"score\"], 1))"
      ],
      "metadata": {
        "colab": {
          "base_uri": "https://localhost:8080/",
          "height": 0
        },
        "id": "vrVNwRFzfFNS",
        "outputId": "5ffb85b7-5d0b-4062-b1a8-7a18bca50eaf"
      },
      "execution_count": 21,
      "outputs": [
        {
          "output_type": "stream",
          "name": "stdout",
          "text": [
            "['score', 'counts', 'totals', 'precisions', 'bp', 'sys_len', 'ref_len']\n",
            "0.0\n"
          ]
        }
      ]
    },
    {
      "cell_type": "markdown",
      "source": [
        "# Perform instruction fine-tuning with LoRA"
      ],
      "metadata": {
        "id": "TzwH4b74fNSy"
      }
    },
    {
      "cell_type": "code",
      "source": [
        "lora_config = LoraConfig(r=16, lora_alpha=32, target_modules=[\"q_proj\", \"v_proj\"],\n",
        "                         lora_dropout=0.1, task_type=TaskType.CAUSAL_LM)\n",
        "\n",
        "model = get_peft_model(model, lora_config)"
      ],
      "metadata": {
        "id": "jfia7w0afO6x"
      },
      "execution_count": 22,
      "outputs": []
    },
    {
      "cell_type": "code",
      "source": [
        "response_template = \"### Response:\\n\"\n",
        "collator = DataCollatorForCompletionOnlyLM(response_template, tokenizer=tokenizer)\n",
        "\n",
        "training_args = SFTConfig(output_dir=\"/tmp\", num_train_epochs=10, save_strategy=\"epoch\",\n",
        "                          fp16=True, per_device_train_batch_size=2, per_device_eval_batch_size=2,\n",
        "                          max_seq_length=1024, do_eval=True)\n",
        "\n",
        "trainer = SFTTrainer(model, train_dataset=train_dataset, eval_dataset=test_dataset,\n",
        "                     formatting_func=formatting_prompts_func, args=training_args,\n",
        "                     packing=False, data_collator=collator)\n",
        "\n",
        "#trainer.train()\n",
        "#log_history_lora = trainer.state.log_history"
      ],
      "metadata": {
        "colab": {
          "base_uri": "https://localhost:8080/",
          "height": 118,
          "referenced_widgets": [
            "fe1e027f30814190ad66f3e551845723",
            "006b0e85b336457296f5767fa01402ca",
            "3c3e2509f8bc45f8b856d8c55e0eea75",
            "9c51b2a09d48463b99650a7b9dd4866d",
            "f0cf41a572e54d29a7ba60ca233595ba",
            "ace05286aa594f54b92fa96779b8af3b",
            "34c5b6a1794245d8a6a503ff2153c477",
            "87b4edb0845d4500a91d5e8f0a047cb5",
            "d8289d7958f54f9186714578c5bea58f",
            "ab448db64be64c0d8618359add8cac8e",
            "13f5f4535e934c13bc84c90dff78eac9",
            "e1db81dd942540b087702f4033c18d1d",
            "51fb2e36410145fca7c839fd40af8a45",
            "6e49c00418f44eff80087bcfb29d0124",
            "5656a89be28b467c8fe3d4d9b97bf098",
            "3428205d4bc34f7e94618071e8045a2c",
            "0e9b7330a58f43648ab6523828605940",
            "93ff74a54d2b467cac59e32cec3a2fba",
            "8ed04670e2ec49a78117547c8222b816",
            "cd7474310eb3432da072b7e651a185de",
            "03edff75df4245a68325bfd4355938a1",
            "e8b18d2145c6413a9b54fcb22b3f9576"
          ]
        },
        "id": "qI_Sb6veihms",
        "outputId": "e962f1ee-6d68-484d-e114-9fa982f0b103"
      },
      "execution_count": 23,
      "outputs": [
        {
          "output_type": "display_data",
          "data": {
            "text/plain": [
              "Map:   0%|          | 0/7811 [00:00<?, ? examples/s]"
            ],
            "application/vnd.jupyter.widget-view+json": {
              "version_major": 2,
              "version_minor": 0,
              "model_id": "fe1e027f30814190ad66f3e551845723"
            }
          },
          "metadata": {}
        },
        {
          "output_type": "display_data",
          "data": {
            "text/plain": [
              "Map:   0%|          | 0/1953 [00:00<?, ? examples/s]"
            ],
            "application/vnd.jupyter.widget-view+json": {
              "version_major": 2,
              "version_minor": 0,
              "model_id": "e1db81dd942540b087702f4033c18d1d"
            }
          },
          "metadata": {}
        },
        {
          "output_type": "stream",
          "name": "stderr",
          "text": [
            "No label_names provided for model class `PeftModelForCausalLM`. Since `PeftModel` hides base models input arguments, if label_names is not given, label_names can't be set automatically within `Trainer`. Note that empty label_names list will be used instead.\n"
          ]
        }
      ]
    },
    {
      "cell_type": "code",
      "source": [
        "#trainer.save_model(\"./instruction_tuning_final_model_lora\")"
      ],
      "metadata": {
        "id": "FlqfRRtKpvPJ"
      },
      "execution_count": 24,
      "outputs": []
    },
    {
      "cell_type": "markdown",
      "source": [
        "A model that was instruction fine-tuned to the above specifications on a GPU:"
      ],
      "metadata": {
        "id": "p4HIwseWpikp"
      }
    },
    {
      "cell_type": "code",
      "source": [
        "urlopened = urlopen('https://cf-courses-data.s3.us.cloud-object-storage.appdomain.cloud/49I70jQD0-RNRg2v-eOoxg/instruction-tuning-log-history-lora.json')\n",
        "log_history_lora = json.load(io.BytesIO(urlopened.read()))\n",
        "\n",
        "train_loss = [log[\"loss\"] for log in log_history_lora if \"loss\" in log]\n",
        "\n",
        "plt.figure(figsize=(10, 5))\n",
        "plt.plot(train_loss, label='Training Loss')\n",
        "plt.xlabel('Steps')\n",
        "plt.ylabel('Loss')\n",
        "plt.title('Training Loss')\n",
        "plt.legend()\n",
        "plt.show()"
      ],
      "metadata": {
        "colab": {
          "base_uri": "https://localhost:8080/",
          "height": 366
        },
        "id": "RXfSX8Tupj6W",
        "outputId": "a8371e9e-1707-4cef-ea3b-f9a2542f4687"
      },
      "execution_count": 25,
      "outputs": [
        {
          "output_type": "display_data",
          "data": {
            "text/plain": [
              "<Figure size 1000x500 with 1 Axes>"
            ],
            "image/png": "[encoded data removed]"
          },
          "metadata": {}
        }
      ]
    },
    {
      "cell_type": "code",
      "source": [
        "gen_pipeline = pipeline(\"text-generation\",\n",
        "                        model=model,\n",
        "                        tokenizer=tokenizer,\n",
        "                        device=device,\n",
        "                        batch_size=2,\n",
        "                        max_length=50,\n",
        "                        truncation=True,\n",
        "                        padding=False,\n",
        "                        return_full_text=False)\n",
        "\n",
        "with torch.no_grad():\n",
        "    pipeline_iterator= gen_pipeline(instructions_torch[:3],\n",
        "                                max_length=50,\n",
        "                                num_beams=5,\n",
        "                                early_stopping=True,)\n",
        "generated_outputs_lora = []\n",
        "for text in pipeline_iterator:\n",
        "    generated_outputs_lora.append(text[0][\"generated_text\"])\n",
        "\n",
        "\n",
        "# generated texts for the entire dataset from the fine-tuned LoRA model and run on GPU:\n",
        "urlopened = urlopen('https://cf-courses-data.s3.us.cloud-object-storage.appdomain.cloud/o7uYxe15xvX4CN-6Lr10iA/instruction-tuning-generated-outputs-lora.pkl')\n",
        "generated_outputs_lora = pickle.load(io.BytesIO(urlopened.read()))"
      ],
      "metadata": {
        "colab": {
          "base_uri": "https://localhost:8080/",
          "height": 0
        },
        "id": "s_7FbJnBqW9h",
        "outputId": "5fcaafde-838d-4829-e1be-576f69d84d71"
      },
      "execution_count": 26,
      "outputs": [
        {
          "output_type": "stream",
          "name": "stderr",
          "text": [
            "Device set to use cpu\n"
          ]
        }
      ]
    },
    {
      "cell_type": "code",
      "source": [
        "for i in range(1):\n",
        "    print('Instruction '+ str(i+1) +': ')\n",
        "    print(instructions[i])\n",
        "    print('------\\n')\n",
        "    print('Expected response '+ str(i+1) +': ')\n",
        "    print(expected_outputs[i])\n",
        "    print('------\\n')\n",
        "    print('Generated response '+ str(i+1) +': ')\n",
        "    print(generated_outputs_lora[i])\n",
        "    print('------\\n')"
      ],
      "metadata": {
        "colab": {
          "base_uri": "https://localhost:8080/",
          "height": 0
        },
        "id": "fLLTOT6Oqmyo",
        "outputId": "940b573f-fb4f-4a9f-e5d4-653c7a457063"
      },
      "execution_count": 27,
      "outputs": [
        {
          "output_type": "stream",
          "name": "stdout",
          "text": [
            "Instruction 1: \n",
            "### Instruction:\n",
            "Name the most important benefit of using a database system.\n",
            "\n",
            "### Response:\n",
            "\n",
            "------\n",
            "\n",
            "Expected response 1: \n",
            "\n",
            "The most important benefit of using a database system is the ability to store and retrieve data quickly and easily. Database systems also provide support for data security, data integrity, and concurrently accessing and modifying data from multiple systems.\n",
            "------\n",
            "\n",
            "Generated response 1: \n",
            "The type of data structure to use to store key-value pairs in a Python program would be a key-value pair.\n",
            "------\n",
            "\n"
          ]
        }
      ]
    },
    {
      "cell_type": "code",
      "source": [
        "sacrebleu = evaluate.load(\"sacrebleu\")\n",
        "results_lora = sacrebleu.compute(predictions=generated_outputs_lora,\n",
        "                                 references=expected_outputs)\n",
        "print(list(results_lora.keys()))\n",
        "print(round(results_lora[\"score\"], 1))"
      ],
      "metadata": {
        "colab": {
          "base_uri": "https://localhost:8080/",
          "height": 0
        },
        "id": "Ho8FPDQQqu_4",
        "outputId": "b1952891-4aae-4d28-9354-65ba2ad558c4"
      },
      "execution_count": 28,
      "outputs": [
        {
          "output_type": "stream",
          "name": "stdout",
          "text": [
            "['score', 'counts', 'totals', 'precisions', 'bp', 'sys_len', 'ref_len']\n",
            "1.2\n"
          ]
        }
      ]
    },
    {
      "cell_type": "markdown",
      "source": [
        "### Try with another response template (Question-Answering)"
      ],
      "metadata": {
        "id": "s__ilelpqx_B"
      }
    },
    {
      "cell_type": "code",
      "source": [
        "def formatting_prompts_response_template(mydataset):\n",
        "    output_texts = []\n",
        "    for i in range(len(mydataset['instruction'])):\n",
        "        text = (f\"### Question:\\n{mydataset['instruction'][i]}\"\n",
        "                f\"\\n\\n### Answer:\\n{mydataset['output'][i]}</s>\")\n",
        "        output_texts.append(text)\n",
        "    return output_texts\n",
        "\n",
        "def formatting_prompts_response_template_no_response(mydataset):\n",
        "    output_texts = []\n",
        "    for i in range(len(mydataset['instruction'])):\n",
        "        text = (f\"### Question:\\n{mydataset['instruction'][i]}\"\n",
        "                f\"\\n\\n### Answer:\\n\")\n",
        "        output_texts.append(text)\n",
        "    return output_texts"
      ],
      "metadata": {
        "id": "bXe6aGXcqzUN"
      },
      "execution_count": 29,
      "outputs": []
    },
    {
      "cell_type": "code",
      "source": [
        "model_name = \"EleutherAI/gpt-neo-125m\"\n",
        "model = AutoModelForCausalLM.from_pretrained(model_name)\n",
        "tokenizer = AutoTokenizer.from_pretrained(model_name)"
      ],
      "metadata": {
        "colab": {
          "base_uri": "https://localhost:8080/",
          "height": 273,
          "referenced_widgets": [
            "78cf82763bdb40bdbaab904062535794",
            "efefaa325b50471dac27ac12d8524a8a",
            "1afd47e3a67543caaca49fa54dcb8b38",
            "3be2b393b1564b51a95f6a3e732d4a44",
            "0879bdcf492843b9ada665b055b1735d",
            "66f3d05c431d4b28a610bb31fd518b1d",
            "08f99736946b4f728c6493710780efc0",
            "45b4ecaf6bd44926ad108ad08235692c",
            "cf7377ad7e404a35959a156ce0e8abb0",
            "b08ff6aad9804941bc9fd74dece4c3e4",
            "d4470f6c31294b1385f18a935cdb53f9",
            "c8327c704e0a4e349d24db3987f54002",
            "4ae8a5d953b144a59fb329e183be1fd1",
            "fa3fdb096b4e4408ac494313ec38dfad",
            "192e5573f4ed4848bd79b5254488e1eb",
            "184c41fe056f4660a695380fa4a2006b",
            "3ccc01b3078c4413b6f1c3571cf754db",
            "2afa021630c342a5b83caa615d2d5f34",
            "722fdc91be2446b3952a488961bce175",
            "0b08c1da10bc438f9d20152bc09707de",
            "78aafae0093343c1bcb74871624d94e8",
            "fb5bbc94310340069e3766a0e42b4f71",
            "e6bec0dee9a5426ebf5b0861ae546528",
            "75bcb3ffd21d4ce8958776c9c36937a8",
            "29816966dfe6485688846975087193b6",
            "8f255f245e01413d9cbfe8fe25ca7afa",
            "30109ac9043d4824a78afcc798aecd13",
            "362f1d75d6ce4d91b0866a24e6eb018d",
            "995d25d43228464e87292db521d80337",
            "19affea2277749eea89848f6d6f747a5",
            "862ec7bc9485408bbde3a2c0b5ed4747",
            "b4a0d8026a1245fc8f2fec61d43f016f",
            "9b9037c8755d4b4f8005a942430ff559",
            "5d629959b13b4fe5a581a7e4451ae55f",
            "5fefa1a5edcc4a80ab704ba56daa493c",
            "96a74eca10124fcdb556cc02dbd1ce53",
            "e81f208378cd4ec6962a35f82e6b345d",
            "fadd85a146444435aa86c0da6305c977",
            "7beab54ba6404ea99d65d08b5c595fa5",
            "7e7abc543572416aa3490c2fdd7704f2",
            "d00bb7041be84da09b92ee8c6f39e769",
            "6c0ac8022ae54afcb1d1f082e490cba5",
            "5639f2be5e864d68b3a4e35c219c88e0",
            "3495b54333784fa0b8f62cad8d98d252",
            "98c9d09010134f8282cdc9b62c0f5210",
            "c07e593669354123991160949502d964",
            "ebd2126e983d47a1bdb68e6681f8fb09",
            "17742a42dcbf43ce80b76f08d808bbeb",
            "405b584f15f24bbd8ceb55818fcd62d6",
            "10718d2c108a4657ab3da4db47c7ac94",
            "47817e7f633a4eb3bbc1a1d77abefbc7",
            "1d29e4dc90e0441e8a8771ee61c2943a",
            "aa2ee1f97c7c43e5b70f3e323668b6f5",
            "c5a3a18cb2c445ae9b144db61ef52b04",
            "6901df120bc04bf0a5f60399f299e91a",
            "aa1c8c207e134d139983a8c0e6669391",
            "55c472395e4e456cbc9c2441698db9aa",
            "40b742461c9d48b6b8542d00476563d3",
            "5388cc57536b4445982a7e058c556d9f",
            "a88729b0bb514dc1accddcda3e637981",
            "f19dd0ced15f44a8a7cfa93c1977206a",
            "21c33aef08c7414fada07f3be8e49a02",
            "3ad28f3b63644fef94335fe36d864ed3",
            "6d5ceb2bb9f74e2497a3bad9435eb601",
            "a8a3cc3cba0649348fa1d2fc857b8330",
            "98d8640748da4f2db228e2f8cf351981",
            "f7a7a0105c524b849d57239a45406f47",
            "82881e2846e447c2a8853fefaed86ba0",
            "62f2d5aa5c0f4006b70db8636443f5d1",
            "81b9884970ec4ed697cd673bd66c95eb",
            "0855b7363afb4fe1ba7720a58877905f",
            "0a40f4a787f240b6bc791e5b9a54b9ac",
            "62b26d836b3c4b42b17f7cf5d164fd7f",
            "9974607ebbeb4dbd80e01611b5e1dd21",
            "cc2e22039937449b8a46c9b33d002692",
            "c8aaf2f3e5f04fd4b32b91e75f50897e",
            "1e8af0934a434dcbbd3a2429dd70d83b",
            "cc0f963e602f4d898bb92e0816f8e4be",
            "673c248f2fa54d0c98447a610fa51dcc",
            "49ee6d137fa64f32abe056750eb55c1d",
            "c114784c5896498ebe1165fdee5632ad",
            "d655c88a65f74838ba615c48d1403502",
            "04d4758fa20b485d9960eb652bfbdefd",
            "5d2c506c2c434967a8f44b5eb041fa83",
            "1d908c6a4a0f447b86267f9d5da4bfa8",
            "665fd0d0370c47758c058371805c5b79",
            "81a187fdac964d8ea9d4011954662921",
            "b9b26e17191f48c9a0062fbfc58c5171"
          ]
        },
        "id": "KZ8gZfKUq8xA",
        "outputId": "27f28e92-99e5-4127-c879-9f82e3aa45cd"
      },
      "execution_count": 30,
      "outputs": [
        {
          "output_type": "display_data",
          "data": {
            "text/plain": [
              "config.json: 0.00B [00:00, ?B/s]"
            ],
            "application/vnd.jupyter.widget-view+json": {
              "version_major": 2,
              "version_minor": 0,
              "model_id": "78cf82763bdb40bdbaab904062535794"
            }
          },
          "metadata": {}
        },
        {
          "output_type": "display_data",
          "data": {
            "text/plain": [
              "model.safetensors:   0%|          | 0.00/526M [00:00<?, ?B/s]"
            ],
            "application/vnd.jupyter.widget-view+json": {
              "version_major": 2,
              "version_minor": 0,
              "model_id": "c8327c704e0a4e349d24db3987f54002"
            }
          },
          "metadata": {}
        },
        {
          "output_type": "display_data",
          "data": {
            "text/plain": [
              "generation_config.json:   0%|          | 0.00/119 [00:00<?, ?B/s]"
            ],
            "application/vnd.jupyter.widget-view+json": {
              "version_major": 2,
              "version_minor": 0,
              "model_id": "e6bec0dee9a5426ebf5b0861ae546528"
            }
          },
          "metadata": {}
        },
        {
          "output_type": "display_data",
          "data": {
            "text/plain": [
              "tokenizer_config.json:   0%|          | 0.00/727 [00:00<?, ?B/s]"
            ],
            "application/vnd.jupyter.widget-view+json": {
              "version_major": 2,
              "version_minor": 0,
              "model_id": "5d629959b13b4fe5a581a7e4451ae55f"
            }
          },
          "metadata": {}
        },
        {
          "output_type": "display_data",
          "data": {
            "text/plain": [
              "vocab.json: 0.00B [00:00, ?B/s]"
            ],
            "application/vnd.jupyter.widget-view+json": {
              "version_major": 2,
              "version_minor": 0,
              "model_id": "98c9d09010134f8282cdc9b62c0f5210"
            }
          },
          "metadata": {}
        },
        {
          "output_type": "display_data",
          "data": {
            "text/plain": [
              "merges.txt: 0.00B [00:00, ?B/s]"
            ],
            "application/vnd.jupyter.widget-view+json": {
              "version_major": 2,
              "version_minor": 0,
              "model_id": "aa1c8c207e134d139983a8c0e6669391"
            }
          },
          "metadata": {}
        },
        {
          "output_type": "display_data",
          "data": {
            "text/plain": [
              "tokenizer.json: 0.00B [00:00, ?B/s]"
            ],
            "application/vnd.jupyter.widget-view+json": {
              "version_major": 2,
              "version_minor": 0,
              "model_id": "f7a7a0105c524b849d57239a45406f47"
            }
          },
          "metadata": {}
        },
        {
          "output_type": "display_data",
          "data": {
            "text/plain": [
              "special_tokens_map.json:   0%|          | 0.00/357 [00:00<?, ?B/s]"
            ],
            "application/vnd.jupyter.widget-view+json": {
              "version_major": 2,
              "version_minor": 0,
              "model_id": "cc0f963e602f4d898bb92e0816f8e4be"
            }
          },
          "metadata": {}
        }
      ]
    },
    {
      "cell_type": "code",
      "source": [
        "lora_config = LoraConfig(r=8, lora_alpha=16, target_modules=[\"q_proj\", \"v_proj\"],\n",
        "                         lora_dropout=0.1,\n",
        "                         task_type=TaskType.CAUSAL_LM)"
      ],
      "metadata": {
        "id": "DKAft7jsq__h"
      },
      "execution_count": 31,
      "outputs": []
    },
    {
      "cell_type": "code",
      "source": [
        "model = get_peft_model(model, lora_config)"
      ],
      "metadata": {
        "id": "jlxT5XkKrI6Z"
      },
      "execution_count": 32,
      "outputs": []
    }
  ]
}