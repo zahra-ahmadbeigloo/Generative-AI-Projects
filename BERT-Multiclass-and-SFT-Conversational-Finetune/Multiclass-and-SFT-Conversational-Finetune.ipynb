{
  "nbformat": 4,
  "nbformat_minor": 0,
  "metadata": {
    "colab": {
      "provenance": []
    },
    "kernelspec": {
      "name": "python3",
      "display_name": "Python 3"
    },
    "language_info": {
      "name": "python"
    }
  },
  "cells": [
    {
      "cell_type": "markdown",
      "source": [
        "# **Fine-Tuning Transformers with PyTorch and Hugging Face**"
      ],
      "metadata": {
        "id": "c2x95KJ97MV4"
      }
    },
    {
      "cell_type": "code",
      "source": [
        "!pip uninstall -y torch torchvision torchaudio\n",
        "!pip cache purge"
      ],
      "metadata": {
        "id": "3CSIMiGldupg"
      },
      "execution_count": null,
      "outputs": []
    },
    {
      "cell_type": "code",
      "source": [
        "!pip install torch==2.3.1 torchvision==0.18.1 torchaudio"
      ],
      "metadata": {
        "id": "bkD_ExUhFbV8"
      },
      "execution_count": null,
      "outputs": []
    },
    {
      "cell_type": "code",
      "execution_count": null,
      "metadata": {
        "id": "vWMdcUSH7KFc"
      },
      "outputs": [],
      "source": [
        "!pip install torchtext==0.17.2\n",
        "!pip install portalocker==2.8.2\n",
        "!pip install torchdata==0.7.1\n",
        "!pip install pandas\n",
        "!pip install matplotlib==3.9.0 scikit-learn==1.5.0\n",
        "!pip install numpy==1.26.0\n",
        "!pip install --user transformers==4.42.1\n",
        "!pip install --user datasets # 2.20.0\n",
        "!pip install portalocker>=2.0.0\n",
        "!pip install --user torchmetrics==1.4.0.post0\n",
        "!pip install numpy==1.26.4\n",
        "!pip install peft==0.11.1\n",
        "!pip install evaluate==0.4.2\n",
        "!pip install -q bitsandbytes==0.43.1\n",
        "!pip install --user accelerate==0.31.0\n",
        "!pip install --user trl==0.9.4\n",
        "!pip install --user protobuf==3.20.*\n",
        "!pip install matplotlib\n",
        "!pip install fsspec==2023.1.0"
      ]
    },
    {
      "cell_type": "code",
      "source": [
        "import torch\n",
        "import torchvision\n",
        "print(torch.__version__)\n",
        "print(torchvision.__version__)\n",
        "from torchvision.ops import nms"
      ],
      "metadata": {
        "colab": {
          "base_uri": "https://localhost:8080/"
        },
        "id": "PiSFFwFYcG3f",
        "outputId": "881a90ea-eca7-4b6e-f897-97b1a048adc1"
      },
      "execution_count": null,
      "outputs": [
        {
          "output_type": "stream",
          "name": "stdout",
          "text": [
            "2.3.1+cu121\n",
            "0.18.1+cu121\n"
          ]
        }
      ]
    },
    {
      "cell_type": "code",
      "source": [
        "from torchmetrics import Accuracy\n",
        "from torch.optim.lr_scheduler import LambdaLR\n",
        "from torch.utils.data import DataLoader\n",
        "from torch.optim import AdamW\n",
        "from transformers import AutoConfig,AutoModelForCausalLM,AutoModelForSequenceClassification,BertConfig,BertForMaskedLM,TrainingArguments, Trainer, TrainingArguments\n",
        "from transformers import AutoTokenizer,BertTokenizerFast,TextDataset,DataCollatorForLanguageModeling\n",
        "from transformers import pipeline\n",
        "from datasets import load_dataset\n",
        "from trl import SFTConfig,SFTTrainer, DataCollatorForCompletionOnlyLM\n",
        "\n",
        "\n",
        "import numpy as np\n",
        "import pandas as pd\n",
        "from tqdm.auto import tqdm\n",
        "import math\n",
        "import time\n",
        "import matplotlib.pyplot as plt\n",
        "\n",
        "def warn(*args, **kwargs):\n",
        "    pass\n",
        "import warnings\n",
        "warnings.warn = warn\n",
        "warnings.filterwarnings('ignore')"
      ],
      "metadata": {
        "colab": {
          "base_uri": "https://localhost:8080/"
        },
        "id": "zrsiDXoW7iqy",
        "outputId": "346cc104-764b-4e97-aa62-5ca86f43014b"
      },
      "execution_count": null,
      "outputs": [
        {
          "output_type": "stream",
          "name": "stderr",
          "text": [
            "No CUDA runtime is found, using CUDA_HOME='/usr/local/cuda'\n"
          ]
        }
      ]
    },
    {
      "cell_type": "markdown",
      "source": [
        "### Dataset Preparations"
      ],
      "metadata": {
        "id": "icKyEUa17wk4"
      }
    },
    {
      "cell_type": "code",
      "source": [
        "dataset = load_dataset(\"yelp_review_full\")\n",
        "dataset, dataset[\"train\"][100]"
      ],
      "metadata": {
        "colab": {
          "base_uri": "https://localhost:8080/",
          "height": 571,
          "referenced_widgets": [
            "67a8c1ad7e404dd38affcc5266ab3fab",
            "8fcc1065a72948b6ba3b750629c5f666",
            "cd6c489432b94bf48bd3ac683bc821a6",
            "1e9b19e277d348e8a4ffb87f9b68739b",
            "e2549587a3b74686957d097b56c2e158",
            "92126516dd8e407589f30d9396024ebf",
            "08555c9da61b46acaaa1ac08201958e3",
            "ec0e72bf630f48989b9ea2ab517e95b4",
            "7f59755db9694cecafbfcc6d72fce55c",
            "7806e46f89484ddda82b5cdd3f9e9af2",
            "3078abb90fe7480ebda83a0826a8adb1",
            "b298fd526b0a4602b8115573f1fd4aa4",
            "047441708617482183c36c4e4cb0041d",
            "2b389718fd344296988f43255b166679",
            "7d95465537f045e99f9b85c204680612",
            "088ac860186b4e578263e2989a68c66b",
            "2c4c92b4cf7c4bfa8e9a8def8cd96f0f",
            "94d6880dfb6d4116a7c76c717691ec99",
            "a6ebf4b6645b4f66b1c35543e11380f9",
            "5fc8616ed38a4882be7c5d4a85af3e3d",
            "c577ecb09bfe466f95f6b1f033ebc9d6",
            "15ea9c9f7625490a9866dca089995a68",
            "8be127eb4f9e4e088c02510a3ee1cb56",
            "8e5842d269384cd98577b09d8f94bbe1",
            "92213ace9ecf4b05bd1b2f9f8b2ea64f",
            "5df374dd2ad941d59822af37b66c749f",
            "4d94ee3db0664c52a10c8b4e090c0c13",
            "1a0516e5bad941df9dc827a683086e89",
            "064dfad7d5dd4209909d315a0c06deab",
            "153d31b5494544fb82ddb7c0f84ba2ab",
            "dbe8a747b3a644c88bcd43a5a668da3b",
            "3ddaa74b728f4a668ff0d21f3ada5f8e",
            "6ac6c494479e43afb4e2acebf4c50c28",
            "e75f77a876a74cb1a53d62ac9d3bb819",
            "82536f43701d41b59ce2b181c3472e26",
            "00b2622948434f8d951d27f0d172ecbe",
            "7a046be46c32479abd05657845c451c0",
            "92b3550a70c743cd865346eaf909f72f",
            "8f148f7e10ce4f689ef26ccdbbc9dcce",
            "3c3153e346d74797b0212758bac059a1",
            "6586f12fc79a4d038d4e29ffac48a8d3",
            "d2ff1ab4a2ff456498c288d4c1004692",
            "311d2a826b4643a288321d8752f8b4c7",
            "13eab83acb11487f9f726cec01e5ccbd",
            "ffab3ddd33f9401eb23d16ecbc507f8f",
            "6a05af84632e4266b55ee835356d1b8e",
            "54177cc6323745f897f1e7eea0f9b012",
            "0c1a36899cf640bb8bbb63d1e3e90137",
            "34a93df547a34af49b29c881290cfdfa",
            "bf92adf68ec342f7a4e4ca3f34acfcdf",
            "dafc081b0ab04fcfafa364d12f33ed9c",
            "24f5fcb182264ef0802b81b8bd6f8a3f",
            "f9788d62469144bc8ceca1733f228288",
            "5ea713c2a92549cca978f5d0e847f9ac",
            "68860ae3cffa41398040456be96ae290",
            "a5208c2350fd47999df6026f6c90f90e",
            "2fd7f21ffd49474c98dc62b1e95de47e",
            "53ba537986524fd7b8e46e807dc530b0",
            "0ea5675e3324498ebb39409bf40d7c08",
            "f6acbc660c934a5985883111d0ba70de",
            "9443887553194970b2375622608a6695",
            "93c992c10616471ab3b4ce68aafa7d42",
            "58687a2acfb24b2e9deb7276c538e0cd",
            "f1c40337740242d8a2216d39d23e6337",
            "cf2a7baaa5034c85b833484e15639740",
            "8ed088656ffe4f70b8333b6a1c2c1eb1",
            "08930a41df134490be5bddb0fa3b22ed",
            "26bcf6990cef4fcf97fb73e1600df337",
            "36eb568e3b284b1eaa9bac2a65c2e04e",
            "a0304b3cc6e740dea7864b76cb05bae2",
            "090b9a72f112480b8577552970648ea6",
            "95e717d7d99746f285e6299468c7a5f5",
            "2d3986e0a8af4c1f86adbfb34b44cbf0",
            "9068451b873b43bca04c8b803209b00b",
            "fee34fe36b0744a29f9477e72d001fef",
            "6455115b16c74874af8d18cfe4fdc33a",
            "f51d72491ef34af8a06ea25c468274cc"
          ]
        },
        "id": "bcSMRQ0P7xGZ",
        "outputId": "df77f4cd-ad8c-4feb-842f-f492548a128c"
      },
      "execution_count": null,
      "outputs": [
        {
          "output_type": "display_data",
          "data": {
            "text/plain": [
              "Downloading readme: 0.00B [00:00, ?B/s]"
            ],
            "application/vnd.jupyter.widget-view+json": {
              "version_major": 2,
              "version_minor": 0,
              "model_id": "67a8c1ad7e404dd38affcc5266ab3fab"
            }
          },
          "metadata": {}
        },
        {
          "output_type": "display_data",
          "data": {
            "text/plain": [
              "Downloading data files:   0%|          | 0/2 [00:00<?, ?it/s]"
            ],
            "application/vnd.jupyter.widget-view+json": {
              "version_major": 2,
              "version_minor": 0,
              "model_id": "b298fd526b0a4602b8115573f1fd4aa4"
            }
          },
          "metadata": {}
        },
        {
          "output_type": "display_data",
          "data": {
            "text/plain": [
              "Downloading data:   0%|          | 0.00/23.5M [00:00<?, ?B/s]"
            ],
            "application/vnd.jupyter.widget-view+json": {
              "version_major": 2,
              "version_minor": 0,
              "model_id": "8be127eb4f9e4e088c02510a3ee1cb56"
            }
          },
          "metadata": {}
        },
        {
          "output_type": "display_data",
          "data": {
            "text/plain": [
              "Downloading data:   0%|          | 0.00/299M [00:00<?, ?B/s]"
            ],
            "application/vnd.jupyter.widget-view+json": {
              "version_major": 2,
              "version_minor": 0,
              "model_id": "e75f77a876a74cb1a53d62ac9d3bb819"
            }
          },
          "metadata": {}
        },
        {
          "output_type": "display_data",
          "data": {
            "text/plain": [
              "Extracting data files:   0%|          | 0/2 [00:00<?, ?it/s]"
            ],
            "application/vnd.jupyter.widget-view+json": {
              "version_major": 2,
              "version_minor": 0,
              "model_id": "ffab3ddd33f9401eb23d16ecbc507f8f"
            }
          },
          "metadata": {}
        },
        {
          "output_type": "display_data",
          "data": {
            "text/plain": [
              "Generating test split:   0%|          | 0/50000 [00:00<?, ? examples/s]"
            ],
            "application/vnd.jupyter.widget-view+json": {
              "version_major": 2,
              "version_minor": 0,
              "model_id": "a5208c2350fd47999df6026f6c90f90e"
            }
          },
          "metadata": {}
        },
        {
          "output_type": "display_data",
          "data": {
            "text/plain": [
              "Generating train split:   0%|          | 0/650000 [00:00<?, ? examples/s]"
            ],
            "application/vnd.jupyter.widget-view+json": {
              "version_major": 2,
              "version_minor": 0,
              "model_id": "08930a41df134490be5bddb0fa3b22ed"
            }
          },
          "metadata": {}
        },
        {
          "output_type": "execute_result",
          "data": {
            "text/plain": [
              "(DatasetDict({\n",
              "     test: Dataset({\n",
              "         features: ['label', 'text'],\n",
              "         num_rows: 50000\n",
              "     })\n",
              "     train: Dataset({\n",
              "         features: ['label', 'text'],\n",
              "         num_rows: 650000\n",
              "     })\n",
              " }),\n",
              " {'label': 0,\n",
              "  'text': 'My expectations for McDonalds are t rarely high. But for one to still fail so spectacularly...that takes something special!\\\\nThe cashier took my friends\\'s order, then promptly ignored me. I had to force myself in front of a cashier who opened his register to wait on the person BEHIND me. I waited over five minutes for a gigantic order that included precisely one kid\\'s meal. After watching two people who ordered after me be handed their food, I asked where mine was. The manager started yelling at the cashiers for \\\\\"serving off their orders\\\\\" when they didn\\'t have their food. But neither cashier was anywhere near those controls, and the manager was the one serving food to customers and clearing the boards.\\\\nThe manager was rude when giving me my order. She didn\\'t make sure that I had everything ON MY RECEIPT, and never even had the decency to apologize that I felt I was getting poor service.\\\\nI\\'ve eaten at various McDonalds restaurants for over 30 years. I\\'ve worked at more than one location. I expect bad days, bad moods, and the occasional mistake. But I have yet to have a decent experience at this store. It will remain a place I avoid unless someone in my party needs to avoid illness from low blood sugar. Perhaps I should go back to the racially biased service of Steak n Shake instead!'})"
            ]
          },
          "metadata": {},
          "execution_count": 5
        }
      ]
    },
    {
      "cell_type": "code",
      "source": [
        "tokenizer = AutoTokenizer.from_pretrained(\"bert-base-cased\")\n",
        "\n",
        "def tokenize_function(examples):\n",
        "    return tokenizer(examples[\"text\"], padding=\"max_length\", truncation=True)\n",
        "\n",
        "tokenized_datasets = dataset.map(tokenize_function, batched=True)\n",
        "\n",
        "tokenized_datasets['train'][0].keys()"
      ],
      "metadata": {
        "colab": {
          "base_uri": "https://localhost:8080/",
          "height": 226,
          "referenced_widgets": [
            "ebc09811b59e4bc4b379cdc9103b1710",
            "89b13b12a6fb4513b945b7e831248148",
            "767d34102de5461cb44ecd61d2db2188",
            "ef0febe3576c4013b468cb7c7844d833",
            "8f2234f1501143048518db195acd6fcd",
            "10d37b1bba714da9be0c9370166b38dc",
            "2b39a026e425466e969b12de760f0760",
            "6957b13dbbe2459c951225fdf5acf284",
            "9ce7629f141243fa87c88edfbfa4b61a",
            "2a198a75b0ad4f3b81690dac3210fc57",
            "bd4deed0cbd74d759a08c0aec3656085",
            "9c2968d50cc34098bafdd96f9affb176",
            "5b77a03c82d54c9f9263e6d2559c983f",
            "e6ad163ace8548e7b472a635d99940bc",
            "f6d424627a5c419192b0a06e5ea8d44a",
            "8690b12b9f724b27aec17287066405ca",
            "52e74bc0c38f4275a057e007fd0c75f4",
            "0e032a0a58e4463da0dc7b38555d105a",
            "e97b292ff50e40d6a13fc00cae271639",
            "b2180995cd614db2b3228fb226f41833",
            "f1ce6d7a347249e2bf18b1fe72af1275",
            "54ae96eff7d34d108a03dd1322aa8bf2",
            "70d43633dc2341b69dbc84a47edae0a1",
            "9c365b5de6874a629187888706a60173",
            "b5a56f7c5f2f455b859ac1139c35bae5",
            "5ea93980d1b3469a93c3eaeb4722821a",
            "b8527b627db34f8a958648340c89290d",
            "f16c83b410ad4e35a7a81546ba7b310b",
            "cfa5431aede245c08c26303b5117be0d",
            "6c40503e363e497ab56760f12a9f367e",
            "2f12d3c6f14c41cbb7042c3ba3e6998c",
            "6a31b5ed4df446eaa583157697d3de78",
            "0d58f58a60a648a0ae09fc5ad4945925",
            "403f9ff57b6f4be18ffb9884a5c73dec",
            "27583dd28ac74d9195eaa79cc0e632a9",
            "5ef130871ae644baaec3ba6193108511",
            "4217ca2e232945f1b83d7ed9970de25c",
            "fa66c80e89ad496aa260dd5c0ced55bd",
            "e53db54d578045c0bd44c2fe3ff24aa4",
            "cc395837a57146a88cba515169c14717",
            "83574d5426384fae8e19240f9866b667",
            "e79c62b0d10c475385560670dbc7711f",
            "8e09a3853ed443649f9e10186097f57f",
            "8c5d4a83605c460da12c1bab56b834c3",
            "e305a4a9f3ea457d84a5ce774ce60c5c",
            "6d16652ca6314584bfefb09d41492de3",
            "27590774e17c4b348985efc12db9ce0e",
            "95f07a16ab0e4a0ba4ea566f115ac883",
            "a9f94505623b407bb04cc900b564a027",
            "39979ea9f3da4970874ad2d015c02ca1",
            "4579a6086a7446369eb6d84edc6776bb",
            "6b56e4383f6443f597bddb74ac7a9afb",
            "2f617c2313264b9285064271e165b1ac",
            "c8cc804f6bd140f1b600ccfd20485353",
            "02a479002158408e8cfd95999ef959dc",
            "2b371dbe8b8d43a7a3292855e3f99aee",
            "cb5e859dbc9d4e41b1c5313800cbc8ad",
            "5c985a2b37784d52ab5d85cfa2080b38",
            "2b51eb0f546940e7a7bedbbf651dd949",
            "541997c17b764251b1f1d38c92100279",
            "91d9c3c10a5948d7b98677b8eba56fc2",
            "4d0cb93311ea4dbbb7db759e9a75c17a",
            "15a2654581aa4a31a0108d669d72c7e1",
            "809d846c318c4909a5a6fe2ed9e58873",
            "ca13a8a339724194a0ae90f151b308e8",
            "a67ee99dec894b10bca9779e169cc5b9"
          ]
        },
        "id": "s_qghkgf7925",
        "outputId": "25e2c7b2-9298-4378-c00d-215b997ebd19"
      },
      "execution_count": null,
      "outputs": [
        {
          "output_type": "display_data",
          "data": {
            "text/plain": [
              "tokenizer_config.json:   0%|          | 0.00/49.0 [00:00<?, ?B/s]"
            ],
            "application/vnd.jupyter.widget-view+json": {
              "version_major": 2,
              "version_minor": 0,
              "model_id": "ebc09811b59e4bc4b379cdc9103b1710"
            }
          },
          "metadata": {}
        },
        {
          "output_type": "display_data",
          "data": {
            "text/plain": [
              "config.json:   0%|          | 0.00/570 [00:00<?, ?B/s]"
            ],
            "application/vnd.jupyter.widget-view+json": {
              "version_major": 2,
              "version_minor": 0,
              "model_id": "9c2968d50cc34098bafdd96f9affb176"
            }
          },
          "metadata": {}
        },
        {
          "output_type": "display_data",
          "data": {
            "text/plain": [
              "vocab.txt:   0%|          | 0.00/213k [00:00<?, ?B/s]"
            ],
            "application/vnd.jupyter.widget-view+json": {
              "version_major": 2,
              "version_minor": 0,
              "model_id": "70d43633dc2341b69dbc84a47edae0a1"
            }
          },
          "metadata": {}
        },
        {
          "output_type": "display_data",
          "data": {
            "text/plain": [
              "tokenizer.json:   0%|          | 0.00/436k [00:00<?, ?B/s]"
            ],
            "application/vnd.jupyter.widget-view+json": {
              "version_major": 2,
              "version_minor": 0,
              "model_id": "403f9ff57b6f4be18ffb9884a5c73dec"
            }
          },
          "metadata": {}
        },
        {
          "output_type": "display_data",
          "data": {
            "text/plain": [
              "Map:   0%|          | 0/50000 [00:00<?, ? examples/s]"
            ],
            "application/vnd.jupyter.widget-view+json": {
              "version_major": 2,
              "version_minor": 0,
              "model_id": "e305a4a9f3ea457d84a5ce774ce60c5c"
            }
          },
          "metadata": {}
        },
        {
          "output_type": "display_data",
          "data": {
            "text/plain": [
              "Map:   0%|          | 0/650000 [00:00<?, ? examples/s]"
            ],
            "application/vnd.jupyter.widget-view+json": {
              "version_major": 2,
              "version_minor": 0,
              "model_id": "2b371dbe8b8d43a7a3292855e3f99aee"
            }
          },
          "metadata": {}
        },
        {
          "output_type": "execute_result",
          "data": {
            "text/plain": [
              "dict_keys(['label', 'text', 'input_ids', 'token_type_ids', 'attention_mask'])"
            ]
          },
          "metadata": {},
          "execution_count": 6
        }
      ]
    },
    {
      "cell_type": "code",
      "source": [
        "tokenized_datasets = tokenized_datasets.remove_columns([\"text\"])\n",
        "tokenized_datasets = tokenized_datasets.rename_column(\"label\", \"labels\")\n",
        "tokenized_datasets.set_format(\"torch\")\n",
        "tokenized_datasets['train'][0].keys()"
      ],
      "metadata": {
        "colab": {
          "base_uri": "https://localhost:8080/"
        },
        "id": "RAUwkU-O8U_A",
        "outputId": "9829865e-5e2a-4d7a-d08e-2d04590d8b7e"
      },
      "execution_count": null,
      "outputs": [
        {
          "output_type": "execute_result",
          "data": {
            "text/plain": [
              "dict_keys(['labels', 'input_ids', 'token_type_ids', 'attention_mask'])"
            ]
          },
          "metadata": {},
          "execution_count": 7
        }
      ]
    },
    {
      "cell_type": "code",
      "source": [
        "train_dataloader = DataLoader(tokenized_datasets[\"train\"], shuffle=True, batch_size=2)\n",
        "eval_dataloader = DataLoader(tokenized_datasets[\"test\"], batch_size=2)"
      ],
      "metadata": {
        "id": "0CFj4iff8gw4"
      },
      "execution_count": null,
      "outputs": []
    },
    {
      "cell_type": "markdown",
      "source": [
        "### Train the Model"
      ],
      "metadata": {
        "id": "sQKPoFtY8nap"
      }
    },
    {
      "cell_type": "code",
      "source": [
        "model = AutoModelForSequenceClassification.from_pretrained(\"bert-base-cased\", num_labels=5)"
      ],
      "metadata": {
        "colab": {
          "base_uri": "https://localhost:8080/",
          "height": 84,
          "referenced_widgets": [
            "3fe2110ad2f043e29c7aa0c686de1132",
            "88b06c5d3422443a823d682ec41465b4",
            "f79393fba7aa48638a320b96613f3035",
            "6e60a1f6a8884eedaa3fbee74195f879",
            "330ae0f4a6834d68b882a3d30e701fe2",
            "bcf1d21e6e63484cb7a626d3a2d42edf",
            "592863fa99a143839db956d08319d02e",
            "984571a36f964fe8a5793963c4d80486",
            "41acdc00333e4253b1bef00d109073cd",
            "7551465ab9ab4b06b39a740ec91c4ec6",
            "ab3a995c3b3f493bac38124503308607"
          ]
        },
        "id": "NeAFU96E8ov-",
        "outputId": "95543242-f826-4f35-ceb1-47711efb69f5"
      },
      "execution_count": null,
      "outputs": [
        {
          "output_type": "display_data",
          "data": {
            "text/plain": [
              "model.safetensors:   0%|          | 0.00/436M [00:00<?, ?B/s]"
            ],
            "application/vnd.jupyter.widget-view+json": {
              "version_major": 2,
              "version_minor": 0,
              "model_id": "3fe2110ad2f043e29c7aa0c686de1132"
            }
          },
          "metadata": {}
        },
        {
          "output_type": "stream",
          "name": "stderr",
          "text": [
            "Some weights of BertForSequenceClassification were not initialized from the model checkpoint at bert-base-cased and are newly initialized: ['classifier.bias', 'classifier.weight']\n",
            "You should probably TRAIN this model on a down-stream task to be able to use it for predictions and inference.\n"
          ]
        }
      ]
    },
    {
      "cell_type": "code",
      "source": [
        "optimizer = AdamW(model.parameters(), lr=5e-4)\n",
        "num_epochs = 10\n",
        "num_training_steps = num_epochs * len(train_dataloader)\n",
        "lr_scheduler = LambdaLR(optimizer, lr_lambda=lambda current_step: (1 - current_step / num_training_steps))"
      ],
      "metadata": {
        "id": "q6A494yU8wK4"
      },
      "execution_count": null,
      "outputs": []
    },
    {
      "cell_type": "code",
      "source": [
        "device = torch.device(\"cuda\") if torch.cuda.is_available() else torch.device(\"cpu\")\n",
        "model.to(device)"
      ],
      "metadata": {
        "colab": {
          "base_uri": "https://localhost:8080/"
        },
        "id": "pMNZkB__9N_Z",
        "outputId": "08ffc437-d9f6-46af-c46c-6d175858726c"
      },
      "execution_count": null,
      "outputs": [
        {
          "output_type": "execute_result",
          "data": {
            "text/plain": [
              "BertForSequenceClassification(\n",
              "  (bert): BertModel(\n",
              "    (embeddings): BertEmbeddings(\n",
              "      (word_embeddings): Embedding(28996, 768, padding_idx=0)\n",
              "      (position_embeddings): Embedding(512, 768)\n",
              "      (token_type_embeddings): Embedding(2, 768)\n",
              "      (LayerNorm): LayerNorm((768,), eps=1e-12, elementwise_affine=True)\n",
              "      (dropout): Dropout(p=0.1, inplace=False)\n",
              "    )\n",
              "    (encoder): BertEncoder(\n",
              "      (layer): ModuleList(\n",
              "        (0-11): 12 x BertLayer(\n",
              "          (attention): BertAttention(\n",
              "            (self): BertSdpaSelfAttention(\n",
              "              (query): Linear(in_features=768, out_features=768, bias=True)\n",
              "              (key): Linear(in_features=768, out_features=768, bias=True)\n",
              "              (value): Linear(in_features=768, out_features=768, bias=True)\n",
              "              (dropout): Dropout(p=0.1, inplace=False)\n",
              "            )\n",
              "            (output): BertSelfOutput(\n",
              "              (dense): Linear(in_features=768, out_features=768, bias=True)\n",
              "              (LayerNorm): LayerNorm((768,), eps=1e-12, elementwise_affine=True)\n",
              "              (dropout): Dropout(p=0.1, inplace=False)\n",
              "            )\n",
              "          )\n",
              "          (intermediate): BertIntermediate(\n",
              "            (dense): Linear(in_features=768, out_features=3072, bias=True)\n",
              "            (intermediate_act_fn): GELUActivation()\n",
              "          )\n",
              "          (output): BertOutput(\n",
              "            (dense): Linear(in_features=3072, out_features=768, bias=True)\n",
              "            (LayerNorm): LayerNorm((768,), eps=1e-12, elementwise_affine=True)\n",
              "            (dropout): Dropout(p=0.1, inplace=False)\n",
              "          )\n",
              "        )\n",
              "      )\n",
              "    )\n",
              "    (pooler): BertPooler(\n",
              "      (dense): Linear(in_features=768, out_features=768, bias=True)\n",
              "      (activation): Tanh()\n",
              "    )\n",
              "  )\n",
              "  (dropout): Dropout(p=0.1, inplace=False)\n",
              "  (classifier): Linear(in_features=768, out_features=5, bias=True)\n",
              ")"
            ]
          },
          "metadata": {},
          "execution_count": 11
        }
      ]
    },
    {
      "cell_type": "code",
      "source": [
        "def train_model(model,tr_dataloader):\n",
        "    progress_bar = tqdm(range(num_training_steps))\n",
        "    model.train()\n",
        "    tr_losses=[]\n",
        "    for epoch in range(num_epochs):\n",
        "        total_loss = 0\n",
        "        for batch in tr_dataloader:\n",
        "            batch = {k: v.to(device) for k, v in batch.items()}\n",
        "            outputs = model(**batch)\n",
        "            loss = outputs.loss\n",
        "            # Backward pass (compute gradients)\n",
        "            loss.backward()\n",
        "            total_loss += loss.item()\n",
        "            # Update the model parameters\n",
        "            optimizer.step()\n",
        "            # Update the learning rate scheduler\n",
        "            lr_scheduler.step()\n",
        "            # Clear the gradients\n",
        "            optimizer.zero_grad()\n",
        "            progress_bar.update(1)\n",
        "        tr_losses.append(total_loss/len(tr_dataloader))\n",
        "    plt.plot(tr_losses)\n",
        "    plt.title(\"Training loss\")\n",
        "    plt.xlabel(\"Epoch\")\n",
        "    plt.ylabel(\"Loss\")\n",
        "    plt.show()"
      ],
      "metadata": {
        "id": "Zbj1ZhS19VkI"
      },
      "execution_count": null,
      "outputs": []
    },
    {
      "cell_type": "markdown",
      "source": [
        "### Evaluate"
      ],
      "metadata": {
        "id": "GvjNX3Yb9wIJ"
      }
    },
    {
      "cell_type": "code",
      "source": [
        "def evaluate_model(model, evl_dataloader):\n",
        "    metric = Accuracy(task=\"multiclass\", num_classes=5).to(device)\n",
        "    model.eval()\n",
        "    with torch.no_grad():\n",
        "        for batch in evl_dataloader:\n",
        "            batch = {k: v.to(device) for k, v in batch.items()}\n",
        "            outputs = model(**batch)\n",
        "            logits = outputs.logits\n",
        "            predictions = torch.argmax(logits, dim=-1)\n",
        "            metric(predictions, batch[\"labels\"])\n",
        "    accuracy = metric.compute()\n",
        "    print(\"Accuracy:\", accuracy.item())"
      ],
      "metadata": {
        "id": "Re_xbyyg9yrE"
      },
      "execution_count": null,
      "outputs": []
    },
    {
      "cell_type": "code",
      "source": [
        "# train_model(model=model,tr_dataloader=train_dataloader)\n",
        "\n",
        "# torch.save(model, 'my_model.pt')"
      ],
      "metadata": {
        "id": "AoMffNad-DTZ"
      },
      "execution_count": null,
      "outputs": []
    },
    {
      "cell_type": "markdown",
      "source": [
        "### Loading the Saved Model"
      ],
      "metadata": {
        "id": "dw7bVyLk-G2x"
      }
    },
    {
      "cell_type": "code",
      "source": [
        "!wget 'https://cf-courses-data.s3.us.cloud-object-storage.appdomain.cloud/wFhKpkBMSgjmZKRSyayvsQ/bert-classification-model.pt'\n",
        "model.load_state_dict(torch.load('bert-classification-model.pt',map_location=torch.device('cpu')))"
      ],
      "metadata": {
        "colab": {
          "base_uri": "https://localhost:8080/"
        },
        "id": "PgAD4Ukp-I4D",
        "outputId": "7f9fbd9e-c67a-4cd6-f922-f3dd26d867db"
      },
      "execution_count": null,
      "outputs": [
        {
          "output_type": "stream",
          "name": "stdout",
          "text": [
            "--2025-07-08 14:53:27--  https://cf-courses-data.s3.us.cloud-object-storage.appdomain.cloud/wFhKpkBMSgjmZKRSyayvsQ/bert-classification-model.pt\n",
            "Resolving cf-courses-data.s3.us.cloud-object-storage.appdomain.cloud (cf-courses-data.s3.us.cloud-object-storage.appdomain.cloud)... 198.23.119.245\n",
            "Connecting to cf-courses-data.s3.us.cloud-object-storage.appdomain.cloud (cf-courses-data.s3.us.cloud-object-storage.appdomain.cloud)|198.23.119.245|:443... connected.\n",
            "HTTP request sent, awaiting response... 200 OK\n",
            "Length: 433341834 (413M) [binary/octet-stream]\n",
            "Saving to: ‘bert-classification-model.pt’\n",
            "\n",
            "bert-classification 100%[===================>] 413.27M  46.2MB/s    in 9.2s    \n",
            "\n",
            "2025-07-08 14:53:37 (44.8 MB/s) - ‘bert-classification-model.pt’ saved [433341834/433341834]\n",
            "\n"
          ]
        },
        {
          "output_type": "execute_result",
          "data": {
            "text/plain": [
              "<All keys matched successfully>"
            ]
          },
          "metadata": {},
          "execution_count": 15
        }
      ]
    },
    {
      "cell_type": "code",
      "source": [
        "evaluate_model(model, eval_dataloader)"
      ],
      "metadata": {
        "id": "XWHEyb5Q-SKR"
      },
      "execution_count": null,
      "outputs": []
    },
    {
      "cell_type": "markdown",
      "source": [
        "## Training a Conversational Model using SFTTrainer"
      ],
      "metadata": {
        "id": "Di3NWH_l-gfS"
      }
    },
    {
      "cell_type": "code",
      "source": [
        "dataset = load_dataset(\"timdettmers/openassistant-guanaco\", split=\"train\")\n",
        "dataset[0]"
      ],
      "metadata": {
        "colab": {
          "base_uri": "https://localhost:8080/",
          "height": 449,
          "referenced_widgets": [
            "5e7db85b5c5a4d68bba5dc76b01ca414",
            "5411748f3a5a42858f00bf502086f0e6",
            "88b4a4ad82544ca6886150e458a776a8",
            "3a0de41668cb4753b7edcbfcf595aed2",
            "4d6b1ecb2518410a942a8b5f02c522fd",
            "838a26b1bfea42fb83f830955474214b",
            "d4c56273b7434f939911c1ee1b0b5900",
            "6510012cef2f4e19b04ed39c18e303a9",
            "3baf0ecd411a41d3a54adcf601bdf938",
            "2e4c0d59bdaa487291a27a4ca8d1afa2",
            "91d7aa3effc9415eb8627e320291147e",
            "376a9583469043ee85c8a16fca9ad039",
            "238ea680dd454ae18ad21cb0fee58c4d",
            "d68ef5f6a35949aa8bc34ccf98570523",
            "bad281fe0fa44583aaa45c2fe00c97ad",
            "bb48b401b2bc4e2ea633faa9b3f14741",
            "7e7fc743bc7d4122869e22f51ebeb4cc",
            "2fe0d3c295ad451985b723d3abdfe75f",
            "52fe31813c2343c691593dff9dcfd530",
            "3e17533972a34dbca746e814debd5888",
            "1603fdb5c1ae405caa1c57e0360a1c2f",
            "a42e571fcff84b99a42e069b8cf41c19",
            "e21a72b2dd0d4a18b3f420290ff10c81",
            "e8e28f81d7fb4ba78764cdb6218c676b",
            "fe909e2423014786a80ddf559b58506b",
            "bb7b787e51be4f03b945b4c537bcf7f8",
            "6eb1aa831f2a4072bf43955221f149fa",
            "f1c74c9a17ed4e6ab428f79d94a6550d",
            "51a47895e33648309476f8755ce2fa9f",
            "6dae5246f30c43dfba14e9e71841df2d",
            "d71243a7f76c4b6084d680293a24324a",
            "bc82496c90d04b2bbc7b840acf59d06e",
            "e0d8a2395b89459ea9e1b5bb7043d076",
            "718876fb0d9b4d42b24b3c9ec33a8900",
            "e9fd473d16344523a61d646678ab6211",
            "2a8b5a3763384d20b742143a5776bdc7",
            "fb334064e4e546979a38709af1c9b432",
            "8d753c854760425883dd7933b43677ea",
            "d916181587c6461f93ae2e0a77f3c4c5",
            "c7e928b6a5454e129ff08ffdbdb6eb91",
            "ce87511246ab4a858c59e59dd68a5fd2",
            "f719b5bf253648d6bfbc700c6f244e0c",
            "ee0b51e2542241bfac271b2ab6b01c8b",
            "29decfe5250646e8abb5aed7bf8ba04d",
            "e702625dae2b4bf7a7dcccae2b7c1a2b",
            "ffe86cedf9d04dd8823c5f3b8c4c3e50",
            "d3d2807376df4990b729841d5d9d3d3b",
            "cb287ab5e3bc42bf993255ad1ff5f5ad",
            "8ec7663d214549ad97626d9b772b97d6",
            "bea22cb25ac648789286191c39263eda",
            "b7772767a93d4630b579c2eb9ae79aa0",
            "a9b8c55d8aa84c0d8abafb6111108165",
            "8f5e6edf6ad84bd88ccfcefe44f4c01c",
            "07e5204bb5dd48b191100b35977b635a",
            "b5f7d64be4c149c8ace2afd3cdc0df98",
            "7f481c38b7574c1bb116118db35e4178",
            "0f3401f6d7a245408fbb4c7008ccf2e2",
            "28742312835a4656a480bbb333b35412",
            "bec56e37ed2646db9ce0e159f6425bd8",
            "a6c96a91593b4ad3a6735212c3460a34",
            "34de723233a347a7a15b32a1cf8a33f5",
            "4ded6a1192b14a50ba8926b1a5b9b704",
            "ad4bb1c449da4bba9353c565c51f0e56",
            "d91ca7bfbc834294b711ed10b5ab50ae",
            "8322c063e1ce4f18b449ff18f8fd24c3",
            "4c068da9ad114bffa89308f435ea0cfd",
            "7c362dd3d9014e788a34882bb522a654",
            "962a2f9c1d524b0eb22786b5ca3dff7f",
            "b91407dacc8d44bcbbdb01f6564f0abe",
            "767948939a02408b86d84b533b845cf0",
            "7ae8d54afcc844ebbacfc6e941b1f7a6",
            "3590939c694c44bab15dca954da9ca9c",
            "2ff3f7a18333440ea31029a6df3d48a7",
            "3c7ad030392748a5b50ca1982c4398b9",
            "41caf7c58deb400eb02c25487809fc53",
            "01a4adbbd1554954b7dd4b2233928984",
            "f2cbb42ed09b4bb89aa89ee2d445482f"
          ]
        },
        "id": "J6jVWaBP-i0f",
        "outputId": "ebe21c3d-f577-4ab9-ca2b-5b75dfe8ab87"
      },
      "execution_count": null,
      "outputs": [
        {
          "output_type": "display_data",
          "data": {
            "text/plain": [
              "Downloading readme:   0%|          | 0.00/395 [00:00<?, ?B/s]"
            ],
            "application/vnd.jupyter.widget-view+json": {
              "version_major": 2,
              "version_minor": 0,
              "model_id": "5e7db85b5c5a4d68bba5dc76b01ca414"
            }
          },
          "metadata": {}
        },
        {
          "output_type": "stream",
          "name": "stderr",
          "text": [
            "Repo card metadata block was not found. Setting CardData to empty.\n",
            "WARNING:huggingface_hub.repocard:Repo card metadata block was not found. Setting CardData to empty.\n"
          ]
        },
        {
          "output_type": "display_data",
          "data": {
            "text/plain": [
              "Downloading data files:   0%|          | 0/2 [00:00<?, ?it/s]"
            ],
            "application/vnd.jupyter.widget-view+json": {
              "version_major": 2,
              "version_minor": 0,
              "model_id": "376a9583469043ee85c8a16fca9ad039"
            }
          },
          "metadata": {}
        },
        {
          "output_type": "display_data",
          "data": {
            "text/plain": [
              "Downloading data:   0%|          | 0.00/20.9M [00:00<?, ?B/s]"
            ],
            "application/vnd.jupyter.widget-view+json": {
              "version_major": 2,
              "version_minor": 0,
              "model_id": "e21a72b2dd0d4a18b3f420290ff10c81"
            }
          },
          "metadata": {}
        },
        {
          "output_type": "display_data",
          "data": {
            "text/plain": [
              "Downloading data:   0%|          | 0.00/1.11M [00:00<?, ?B/s]"
            ],
            "application/vnd.jupyter.widget-view+json": {
              "version_major": 2,
              "version_minor": 0,
              "model_id": "718876fb0d9b4d42b24b3c9ec33a8900"
            }
          },
          "metadata": {}
        },
        {
          "output_type": "display_data",
          "data": {
            "text/plain": [
              "Extracting data files:   0%|          | 0/2 [00:00<?, ?it/s]"
            ],
            "application/vnd.jupyter.widget-view+json": {
              "version_major": 2,
              "version_minor": 0,
              "model_id": "e702625dae2b4bf7a7dcccae2b7c1a2b"
            }
          },
          "metadata": {}
        },
        {
          "output_type": "display_data",
          "data": {
            "text/plain": [
              "Generating train split: 0 examples [00:00, ? examples/s]"
            ],
            "application/vnd.jupyter.widget-view+json": {
              "version_major": 2,
              "version_minor": 0,
              "model_id": "7f481c38b7574c1bb116118db35e4178"
            }
          },
          "metadata": {}
        },
        {
          "output_type": "display_data",
          "data": {
            "text/plain": [
              "Generating test split: 0 examples [00:00, ? examples/s]"
            ],
            "application/vnd.jupyter.widget-view+json": {
              "version_major": 2,
              "version_minor": 0,
              "model_id": "7c362dd3d9014e788a34882bb522a654"
            }
          },
          "metadata": {}
        },
        {
          "output_type": "execute_result",
          "data": {
            "text/plain": [
              "{'text': '### Human: Can you write a short introduction about the relevance of the term \"monopsony\" in economics? Please use examples related to potential monopsonies in the labour market and cite relevant research.### Assistant: \"Monopsony\" refers to a market structure where there is only one buyer for a particular good or service. In economics, this term is particularly relevant in the labor market, where a monopsony employer has significant power over the wages and working conditions of their employees. The presence of a monopsony can result in lower wages and reduced employment opportunities for workers, as the employer has little incentive to increase wages or provide better working conditions.\\n\\nRecent research has identified potential monopsonies in industries such as retail and fast food, where a few large companies control a significant portion of the market (Bivens & Mishel, 2013). In these industries, workers often face low wages, limited benefits, and reduced bargaining power, leading to a situation where they are dependent on the employer for their livelihood. This dependence can result in further suppression of wages and a decline in working conditions.\\n\\nOverall, the concept of monopsony is essential to understanding the dynamics of labor markets and the impact of market power on workers. Further research is needed to understand the extent and impact of monopsonies on the economy and to develop policies to address this issue.\\n\\nReferences:\\nBivens, J., & Mishel, L. (2013). The Pay of Corporate Executives and Financial Professionals as Evidence of Rents in Top 1 Percent Incomes. Journal of Economic Perspectives, 27(3), 57-78.### Human: Now explain it to a dog'}"
            ]
          },
          "metadata": {},
          "execution_count": 18
        }
      ]
    },
    {
      "cell_type": "code",
      "source": [
        "model = AutoModelForCausalLM.from_pretrained(\"facebook/opt-350m\")\n",
        "tokenizer = AutoTokenizer.from_pretrained(\"facebook/opt-350m\")"
      ],
      "metadata": {
        "colab": {
          "base_uri": "https://localhost:8080/",
          "height": 241,
          "referenced_widgets": [
            "a0b29f6806e3468b9a6b29f467db5d73",
            "2d0b7f38634b463d86d08d7f746e9193",
            "0c6f63c9abd943bfa902d29a0f237bc8",
            "7abf70ad451a4cf2af1f5270859fa740",
            "26949193dfd1462dbbe15ea46a6ab13d",
            "99699523ca3a4991a74a06f45a35214b",
            "c544276a82b845038daebb3a6b56bee5",
            "89e7f0bd436e45c7a9d57f2f156da8c5",
            "432f177e47034621a843e732c888f876",
            "d4e0b73a699541d1aeab241c9151b6aa",
            "443e43e8b4a74cc6a4580df5081c1966",
            "b742f4c5a67143be8c70cf9dd49d72c1",
            "5df0a7cacc5e4635b9e73dd2fe24a005",
            "f62ed86eda3b4659adad8675ffed4e17",
            "0e1df99c652a49d59f4903b097b4c89c",
            "63e632900ffa46d282d935ba70220f13",
            "2f4ef3379c87452694df54e587b67b01",
            "ca6b07af66744d54aa3234f91e3f5923",
            "e0083095bc4f40de94e5b3a7d41a0051",
            "0ede4e77414541eb896fa9ee6611ac01",
            "52149357ad4f4dc7845475c9160281b4",
            "7dcdd96a421140d8b7406b83d2d56764",
            "6da14c1c90f248de8ad4bc9ea646fef6",
            "45af9d1417b04e6aaacc84584e1841fb",
            "7c60636d9a6743b58caca18af8a8b240",
            "0c6f2c82990f499e8420220ff0ccb022",
            "46e6b4d2c4da467eb03ca8f01b8b36e9",
            "d2e33cad3800410bb8cfc5510f8642f2",
            "5c0dab6330e34c91a412012cfeebc4df",
            "af51911deea346baabdfee3217e5a54c",
            "040ff7c34d9741abb66747076b3574ff",
            "6f43790bed144b0a8a4dfccb973f038b",
            "08fbbed6116e4b7a9615a2d84f7e6f01",
            "52187b31c0c54b6d90561bdb171e13c9",
            "67ed82c7d2a843efbb5d95b6f40a4dc9",
            "f13fe9ec4a1c4eb8b7685895cbf12f2a",
            "3ec8eda0882d4239b11bc2ab20d8be97",
            "f049b8c24c6741ec99d8cd5a295c11d1",
            "641af00ee4684390b1e4e1b6b09e9d8a",
            "667332fe5098439488f6ade13d6e4d8c",
            "f5039628d9b8425b8f735173110bc2a3",
            "450e5bdbe62f485fb5f44f9fcc94a277",
            "873aea9d775e43dea8a17f575f05578a",
            "59e8324bd99e447c81bb263a8d47c1af",
            "b9d7da5a642a41aa93153e7532a7744d",
            "44866b1177324c9990c4d97b1c91bd79",
            "87d2d16eca574e0fbd51b04e91d3f0c9",
            "82c76966ece5434b84517b8123d12b1a",
            "dab9a4c4e03746e7bb6f95a38c568128",
            "fe017a5b39f8472ca20e647073725f61",
            "3d4ed6db35254ce49258b27ecff49464",
            "0babf2e3728b4922a545955c6bc3c785",
            "dee76bddc109416585e65b1e8d2c2fc7",
            "6adf733d802f48b392bbb0d38b288371",
            "8e53390d620a471fb0fa38e3452448df",
            "ffdb983fb584404387dffda7ab5c542e",
            "61c7994d71c241169ad1310343a096e8",
            "696517f4d7084eadba7c7c1486e300f8",
            "6a0bc9c8f3de4c5d9ca2d31e5ff2ccbe",
            "de7c9b0a742444bfbaffca8030337ba9",
            "81a312ef80734624aa8cb79da1466fdf",
            "745200b2ea0a4ece872db244c7683067",
            "6720e6601e95402785d28eb1de9176f1",
            "0b2fae86a7e54c9d9363347bffeeb8eb",
            "76e3cc40a84e4ee6aeb88e04f50fdd2a",
            "e45adc23eadd4ee991e8581b26e21808",
            "3d4c33018a104b00bb637ea0d6e6fb01",
            "52075fe48c5e4e949f823e26e8c59389",
            "dfd7bf3701844365b26015dec47133df",
            "2041f867c0924749a02248b87c5d9e1f",
            "d50cde73ce0141c69d89f67521d9e447",
            "faeec9b7af274c1a8e95d10d62ba529d",
            "0ade41a2a1434460998ffc5efe1f619a",
            "912ce1ccad8b47dc85a49a25d88818af",
            "cf4db54b95a44682b1120ab11b3dcbf2",
            "15add7d46cb547dea679a3ca10f31fb6",
            "f3778d2ab0194c5aa126201a3e673e0f"
          ]
        },
        "id": "3gQMXXMdAAha",
        "outputId": "91203b17-476b-4bf7-844a-84eb5d4e1a2e"
      },
      "execution_count": null,
      "outputs": [
        {
          "output_type": "display_data",
          "data": {
            "text/plain": [
              "config.json:   0%|          | 0.00/644 [00:00<?, ?B/s]"
            ],
            "application/vnd.jupyter.widget-view+json": {
              "version_major": 2,
              "version_minor": 0,
              "model_id": "a0b29f6806e3468b9a6b29f467db5d73"
            }
          },
          "metadata": {}
        },
        {
          "output_type": "display_data",
          "data": {
            "text/plain": [
              "pytorch_model.bin:   0%|          | 0.00/663M [00:00<?, ?B/s]"
            ],
            "application/vnd.jupyter.widget-view+json": {
              "version_major": 2,
              "version_minor": 0,
              "model_id": "b742f4c5a67143be8c70cf9dd49d72c1"
            }
          },
          "metadata": {}
        },
        {
          "output_type": "display_data",
          "data": {
            "text/plain": [
              "generation_config.json:   0%|          | 0.00/137 [00:00<?, ?B/s]"
            ],
            "application/vnd.jupyter.widget-view+json": {
              "version_major": 2,
              "version_minor": 0,
              "model_id": "6da14c1c90f248de8ad4bc9ea646fef6"
            }
          },
          "metadata": {}
        },
        {
          "output_type": "display_data",
          "data": {
            "text/plain": [
              "tokenizer_config.json:   0%|          | 0.00/685 [00:00<?, ?B/s]"
            ],
            "application/vnd.jupyter.widget-view+json": {
              "version_major": 2,
              "version_minor": 0,
              "model_id": "52187b31c0c54b6d90561bdb171e13c9"
            }
          },
          "metadata": {}
        },
        {
          "output_type": "display_data",
          "data": {
            "text/plain": [
              "vocab.json: 0.00B [00:00, ?B/s]"
            ],
            "application/vnd.jupyter.widget-view+json": {
              "version_major": 2,
              "version_minor": 0,
              "model_id": "b9d7da5a642a41aa93153e7532a7744d"
            }
          },
          "metadata": {}
        },
        {
          "output_type": "display_data",
          "data": {
            "text/plain": [
              "merges.txt: 0.00B [00:00, ?B/s]"
            ],
            "application/vnd.jupyter.widget-view+json": {
              "version_major": 2,
              "version_minor": 0,
              "model_id": "ffdb983fb584404387dffda7ab5c542e"
            }
          },
          "metadata": {}
        },
        {
          "output_type": "display_data",
          "data": {
            "text/plain": [
              "special_tokens_map.json:   0%|          | 0.00/441 [00:00<?, ?B/s]"
            ],
            "application/vnd.jupyter.widget-view+json": {
              "version_major": 2,
              "version_minor": 0,
              "model_id": "3d4c33018a104b00bb637ea0d6e6fb01"
            }
          },
          "metadata": {}
        }
      ]
    },
    {
      "cell_type": "code",
      "source": [
        "instruction_template = \"### Human:\"\n",
        "response_template = \"### Assistant:\""
      ],
      "metadata": {
        "id": "-JjlrkxdADfr"
      },
      "execution_count": null,
      "outputs": []
    },
    {
      "cell_type": "code",
      "source": [
        "collator = DataCollatorForCompletionOnlyLM(instruction_template=instruction_template, response_template=response_template, tokenizer=tokenizer, mlm=False)"
      ],
      "metadata": {
        "id": "719vjmwrAIAq"
      },
      "execution_count": null,
      "outputs": []
    },
    {
      "cell_type": "code",
      "source": [
        "training_args = SFTConfig(\n",
        "    output_dir=\"/tmp\",\n",
        "    num_train_epochs=10,\n",
        "    #learning_rate=2e-5,\n",
        "    save_strategy=\"epoch\",\n",
        "    fp16=True,\n",
        "    per_device_train_batch_size=2,  # Reduce batch size\n",
        "    per_device_eval_batch_size=2,  # Reduce batch size\n",
        "    #gradient_accumulation_steps=4,  # Accumulate gradients\n",
        "    max_seq_length=1024,\n",
        "    do_eval=True)\n",
        "\n",
        "trainer = SFTTrainer(\n",
        "    model,\n",
        "    args=training_args,\n",
        "    train_dataset=dataset,\n",
        "    dataset_text_field=\"text\",\n",
        "    data_collator=collator,)"
      ],
      "metadata": {
        "colab": {
          "base_uri": "https://localhost:8080/",
          "height": 49,
          "referenced_widgets": [
            "4bd62ad2d836495a95e3770bc0d5e729",
            "10cd3a3a713345c4ac8b46f0be9ba185",
            "26b565a8d8754a01862619bc05762227",
            "eb75fbe5e8794f3291e93b883f728006",
            "669c65dfaf604a8da553f98c653dba5f",
            "c76555746a464841bfb0790502f17ee4",
            "0f2e4f1f3d73489c9ddfe08b8e331345",
            "94e48cd77abd46aba7cac8424a1d4e48",
            "2e761709d6384660bdc75c71eae98c7c",
            "defa5234d0634406b3d008e55f90dc6c",
            "47fb15ec2bad4bccb695fee0337d22b0"
          ]
        },
        "id": "QGo1NycDAL9K",
        "outputId": "bc984ebd-2d15-4f07-95b9-880c8bbfe52a"
      },
      "execution_count": null,
      "outputs": [
        {
          "output_type": "display_data",
          "data": {
            "text/plain": [
              "Map:   0%|          | 0/9846 [00:00<?, ? examples/s]"
            ],
            "application/vnd.jupyter.widget-view+json": {
              "version_major": 2,
              "version_minor": 0,
              "model_id": "4bd62ad2d836495a95e3770bc0d5e729"
            }
          },
          "metadata": {}
        }
      ]
    },
    {
      "cell_type": "code",
      "source": [
        "pipe = pipeline(\"text-generation\", model=model,tokenizer=tokenizer,max_new_tokens=70)\n",
        "print(pipe('''Can you write a short introduction about the relevance of the term \"monopsony\" in economics? Please use examples related to potential monopsonies in the labour market and cite relevant research.''')[0][\"generated_text\"])"
      ],
      "metadata": {
        "colab": {
          "base_uri": "https://localhost:8080/"
        },
        "id": "NAbSyLwVAiDC",
        "outputId": "dbd316f5-ecb5-43bb-eafa-d28eb4fc2649"
      },
      "execution_count": null,
      "outputs": [
        {
          "output_type": "stream",
          "name": "stdout",
          "text": [
            "Can you write a short introduction about the relevance of the term \"monopsony\" in economics? Please use examples related to potential monopsonies in the labour market and cite relevant research.\n",
            "\n",
            "The term \"monopsony\" is used in the context of the \"mono\" (mono-economy) model. The term \"mono-economy\" is used in the context of the \"mono-economy\" model. The term \"mono-economy\" is used in the context of\n"
          ]
        }
      ]
    },
    {
      "cell_type": "markdown",
      "source": [
        "Not aware of what \"monopsony\" is in the context of economics."
      ],
      "metadata": {
        "id": "I9pdQ0K_Axrq"
      }
    },
    {
      "cell_type": "code",
      "source": [
        "#trainer.train()"
      ],
      "metadata": {
        "id": "IZthVCE3AxC6"
      },
      "execution_count": null,
      "outputs": []
    },
    {
      "cell_type": "code",
      "source": [
        "!wget 'https://cf-courses-data.s3.us.cloud-object-storage.appdomain.cloud/Assistant_model.pt'\n",
        "model.load_state_dict(torch.load('Assistant_model.pt',map_location=torch.device('cpu')))"
      ],
      "metadata": {
        "colab": {
          "base_uri": "https://localhost:8080/"
        },
        "id": "kfxTHee8A9Ey",
        "outputId": "5b6167bd-8062-451e-af26-89a39f0b181d"
      },
      "execution_count": null,
      "outputs": [
        {
          "output_type": "stream",
          "name": "stdout",
          "text": [
            "--2025-07-08 15:55:56--  https://cf-courses-data.s3.us.cloud-object-storage.appdomain.cloud/Assistant_model.pt\n",
            "Resolving cf-courses-data.s3.us.cloud-object-storage.appdomain.cloud (cf-courses-data.s3.us.cloud-object-storage.appdomain.cloud)... 198.23.119.245\n",
            "Connecting to cf-courses-data.s3.us.cloud-object-storage.appdomain.cloud (cf-courses-data.s3.us.cloud-object-storage.appdomain.cloud)|198.23.119.245|:443... connected.\n",
            "HTTP request sent, awaiting response... 200 OK\n",
            "Length: 1324934570 (1.2G) [application/octet-stream]\n",
            "Saving to: ‘Assistant_model.pt’\n",
            "\n",
            "Assistant_model.pt  100%[===================>]   1.23G  34.8MB/s    in 39s     \n",
            "\n",
            "2025-07-08 15:56:35 (32.7 MB/s) - ‘Assistant_model.pt’ saved [1324934570/1324934570]\n",
            "\n"
          ]
        },
        {
          "output_type": "execute_result",
          "data": {
            "text/plain": [
              "<All keys matched successfully>"
            ]
          },
          "metadata": {},
          "execution_count": 24
        }
      ]
    },
    {
      "cell_type": "code",
      "source": [
        "## Write your code here\n",
        "pipe = pipeline(\"text-generation\", model=model,tokenizer=tokenizer,max_new_tokens=70)\n",
        "print(pipe('''Can you write a short introduction about the relevance of the term \"monopsony\" in economics? Please use examples related to potential monopsonies in the labour market and cite relevant research.''')[0][\"generated_text\"])"
      ],
      "metadata": {
        "colab": {
          "base_uri": "https://localhost:8080/"
        },
        "id": "sqvb6Q2qBBAi",
        "outputId": "21943b0b-1d3f-4d3f-f13d-32caa0a5f70c"
      },
      "execution_count": null,
      "outputs": [
        {
          "output_type": "stream",
          "name": "stdout",
          "text": [
            "Can you write a short introduction about the relevance of the term \"monopsony\" in economics? Please use examples related to potential monopsonies in the labour market and cite relevant research.\n",
            "\n",
            "The term \"monopsony\" in economics refers to the practice of controlling the working class by imposing a price on them. This can be seen as a form of economic control, but it can also be seen as a form of political control, as the price of a product can be influenced by the interests of the state.\n",
            "\n",
            "\n"
          ]
        }
      ]
    },
    {
      "cell_type": "code",
      "source": [],
      "metadata": {
        "id": "bXxB-b0UwQbT"
      },
      "execution_count": null,
      "outputs": []
    }
  ]
}