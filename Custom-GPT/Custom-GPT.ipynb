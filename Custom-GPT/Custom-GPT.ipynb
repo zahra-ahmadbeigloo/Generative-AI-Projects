{
  "nbformat": 4,
  "nbformat_minor": 0,
  "metadata": {
    "colab": {
      "provenance": [],
      "gpuType": "T4"
    },
    "kernelspec": {
      "name": "python3",
      "display_name": "Python 3"
    },
    "language_info": {
      "name": "python"
    },
    "accelerator": "GPU"},
  "cells": [
    {
      "cell_type": "markdown",
      "source": [
        "# **Custom GPT**"
      ],
      "metadata": {
        "id": "_54Bpzb0gIDo"
      }
    },
    {
      "cell_type": "code",
      "source": [
        "# !pip install numpy==1.26.0\n",
        "# !pip install torch==2.2.0 torchvision torchaudio --index-url https://download.pytorch.org/whl/cpu\n",
        "# !pip install torchtext==0.17.2\n",
        "# !pip install torchdata==0.7.1\n",
        "# !pip install portalocker==2.8.2\n",
        "!pip install pandas==2.2.1\n",
        "# !pip install matplotlib==3.9.0 scikit-learn==1.5.0\n",
        "# !pip install transformers==4.31.0"
      ],
      "metadata": {
        "id": "VVjRDPdugkvR",
        "colab": {
          "base_uri": "https://localhost:8080/"
        },
        "outputId": "7b8e17fd-d6f2-4494-8d1e-ede91cfd0d13"
      },
      "execution_count": 5,
      "outputs": [
        {
          "output_type": "stream",
          "name": "stdout",
          "text": [
            "Requirement already satisfied: pandas==2.2.1 in /usr/local/lib/python3.11/dist-packages (2.2.1)\n",
            "Requirement already satisfied: numpy<2,>=1.23.2 in /usr/local/lib/python3.11/dist-packages (from pandas==2.2.1) (1.26.0)\n",
            "Requirement already satisfied: python-dateutil>=2.8.2 in /usr/local/lib/python3.11/dist-packages (from pandas==2.2.1) (2.9.0.post0)\n",
            "Requirement already satisfied: pytz>=2020.1 in /usr/local/lib/python3.11/dist-packages (from pandas==2.2.1) (2025.2)\n",
            "Requirement already satisfied: tzdata>=2022.7 in /usr/local/lib/python3.11/dist-packages (from pandas==2.2.1) (2025.2)\n",
            "Requirement already satisfied: six>=1.5 in /usr/local/lib/python3.11/dist-packages (from python-dateutil>=2.8.2->pandas==2.2.1) (1.17.0)\n"
          ]
        }
      ]
    },
    {
      "cell_type": "code",
      "source": [
        "import time\n",
        "import matplotlib.pyplot as plt\n",
        "import numpy as np\n",
        "from typing import Iterable, List\n",
        "import math\n",
        "\n",
        "import torch\n",
        "import torch.nn as nn\n",
        "from torch.nn import Transformer\n",
        "from torch import Tensor\n",
        "from torch.utils.data import DataLoader\n",
        "from torch.nn.utils.rnn import pad_sequence\n",
        "from torch.optim import Adam\n",
        "\n",
        "from torchtext.datasets import multi30k, Multi30k\n",
        "from torchtext.vocab import Vocab\n",
        "from torchtext.data.utils import get_tokenizer\n",
        "from torchtext.vocab import build_vocab_from_iterator\n",
        "from torchtext.datasets import IMDB,PennTreebank\n",
        "from transformers import GPT2Tokenizer, GPT2LMHeadModel\n",
        "\n",
        "\n",
        "def warn(*args, **kwargs):\n",
        "    pass\n",
        "import warnings\n",
        "warnings.warn = warn\n",
        "warnings.filterwarnings('ignore')"
      ],
      "metadata": {
        "id": "LcwHa9sHgnDQ"
      },
      "execution_count": 1,
      "outputs": []
    },
    {
      "cell_type": "markdown",
      "source": [
        "## Dataset"
      ],
      "metadata": {
        "id": "oUoAswNQNpbP"
      }
    },
    {
      "cell_type": "code",
      "execution_count": 2,
      "metadata": {
        "id": "Kg_M3__JgEI7",
        "colab": {
          "base_uri": "https://localhost:8080/"
        },
        "outputId": "a09a6a2b-b745-4df6-c00d-20f42fa021de"
      },
      "outputs": [
        {
          "output_type": "execute_result",
          "data": {
            "text/plain": [
              "(1,\n",
              " 'I rented I AM CURIOUS-YELLOW from my video store because of all the controversy that surrounded it when it was first released in 1967. I also heard that at first it was seized by U.S. customs if it ever tried to enter this country, therefore being a fan of films considered \"controversial\" I really had to see this for myself.<br /><br />The plot is centered around a young Swedish drama student named Lena who wants to learn everything she can about life. In particular she wants to focus her attentions to making some sort of documentary on what the average Swede thought about certain political issues such as the Vietnam War and race issues in the United States. In between asking politicians and ordinary denizens of Stockholm about their opinions on politics, she has sex with her drama teacher, classmates, and married men.<br /><br />What kills me about I AM CURIOUS-YELLOW is that 40 years ago, this was considered pornographic. Really, the sex and nudity scenes are few and far between, even then it\\'s not shot like some cheaply made porno. While my countrymen mind find it shocking, in reality sex and nudity are a major staple in Swedish cinema. Even Ingmar Bergman, arguably their answer to good old boy John Ford, had sex scenes in his films.<br /><br />I do commend the filmmakers for the fact that any sex shown in the film is shown for artistic purposes rather than just to shock people and make money to be shown in pornographic theaters in America. I AM CURIOUS-YELLOW is a good film for anyone wanting to study the meat and potatoes (no pun intended) of Swedish cinema. But really, this film doesn\\'t have much of a plot.')"
            ]
          },
          "metadata": {},
          "execution_count": 2
        }
      ],
      "source": [
        "train_iter, val_iter = IMDB()\n",
        "\n",
        "DEVICE = torch.device('cuda' if torch.cuda.is_available() else 'cpu')\n",
        "\n",
        "data_itr=iter(train_iter)\n",
        "next(data_itr)"
      ]
    },
    {
      "cell_type": "markdown",
      "source": [
        "## Preprocessing Data"
      ],
      "metadata": {
        "id": "tdW9PmHJOW6f"
      }
    },
    {
      "cell_type": "code",
      "source": [
        "UNK_IDX, PAD_IDX, EOS_IDX = 0, 1, 2\n",
        "special_symbols = ['<unk>', '<pad>', '<|endoftext|>' ]\n",
        "\n",
        "tokenizer = get_tokenizer(\"basic_english\")"
      ],
      "metadata": {
        "id": "ROKarSJ6OV_B"
      },
      "execution_count": 3,
      "outputs": []
    },
    {
      "cell_type": "code",
      "source": [
        "def yield_tokens(data_iter):\n",
        "    for _,data_sample in data_iter:\n",
        "        yield  tokenizer(data_sample)\n",
        "\n",
        "vocab = build_vocab_from_iterator(yield_tokens(train_iter), specials=special_symbols, special_first=True)\n",
        "vocab.set_default_index(UNK_IDX)"
      ],
      "metadata": {
        "id": "bNGWd27TOrug"
      },
      "execution_count": 4,
      "outputs": []
    },
    {
      "cell_type": "code",
      "source": [
        "text_to_index=lambda text: [vocab(token) for token in tokenizer(text)]\n",
        "index_to_en = lambda seq_en: \" \".join([vocab.get_itos()[index] for index in seq_en])\n",
        "\n",
        "index_to_en(torch.tensor([0,1,2]))"
      ],
      "metadata": {
        "id": "LwdHXiZsgONm",
        "colab": {
          "base_uri": "https://localhost:8080/",
          "height": 36
        },
        "outputId": "f97b42c9-094f-4177-8e62-ab5d80b6dfb3"
      },
      "execution_count": 5,
      "outputs": [
        {
          "output_type": "execute_result",
          "data": {
            "text/plain": [
              "'<unk> <pad> <|endoftext|>'"
            ],
            "application/vnd.google.colaboratory.intrinsic+json": {
              "type": "string"
            }
          },
          "metadata": {},
          "execution_count": 5
        }
      ]
    },
    {
      "cell_type": "markdown",
      "source": [
        "### Collate Function"
      ],
      "metadata": {
        "id": "sSfG__qZPmsm"
      }
    },
    {
      "cell_type": "code",
      "source": [
        "def get_sample(block_size, text):\n",
        "    # Determine the length of the input text\n",
        "    sample_leg = len(text)\n",
        "    # Calculate the stopping point for randomly selecting a sample\n",
        "    # This ensures the selected sample doesn't exceed the text length\n",
        "    random_sample_stop = sample_leg - block_size\n",
        "\n",
        "\n",
        "    # Check if a random sample can be taken (if the text is longer than block_size)\n",
        "    if random_sample_stop >= 1:\n",
        "        # Randomly select a starting point for the sample\n",
        "        random_start = torch.randint(low=0, high=random_sample_stop, size=(1,)).item()\n",
        "        # Define the endpoint of the sample\n",
        "        stop = random_start + block_size\n",
        "\n",
        "        # Create the input and target sequences\n",
        "        src_sequence = text[random_start:stop]\n",
        "        tgt_sequence= text[random_start + 1:stop + 1]\n",
        "\n",
        "    # Handle the case where the text length is exactly equal or less the block size\n",
        "    elif random_sample_stop <= 0:\n",
        "        # Start from the beginning and use the entire text\n",
        "        random_start = 0\n",
        "        stop = sample_leg\n",
        "        src_sequence= text[random_start:stop]\n",
        "        tgt_sequence = text[random_start + 1:stop]\n",
        "        # Append an empty string to maintain sequence alignment\n",
        "        tgt_sequence.append( '<|endoftext|>')\n",
        "\n",
        "    return src_sequence, tgt_sequence"
      ],
      "metadata": {
        "id": "Gz25zJCNPof_"
      },
      "execution_count": 6,
      "outputs": []
    },
    {
      "cell_type": "code",
      "source": [
        "# Initialize empty lists to store source and target sequences\n",
        "src_batch, tgt_batch = [], []\n",
        "block_size=10\n",
        "\n",
        "# Define the batch size\n",
        "BATCH_SIZE = 2\n",
        "\n",
        "# Loop to create batches of source and target sequences\n",
        "for i in range(BATCH_SIZE):\n",
        "    # Retrieve the next data point from the training iterator\n",
        "    _,text = next(iter(train_iter))\n",
        "\n",
        "    # Generate source and target sequences using the get_sample function\n",
        "    src_sequence_text, tgt_sequence_text = get_sample(block_size, tokenizer(text))\n",
        "\n",
        "    # Convert source and target sequences to tokenized vocabulary indices\n",
        "    src_sequence_indices = vocab(src_sequence_text)\n",
        "    tgt_sequence_indices = vocab(tgt_sequence_text)\n",
        "\n",
        "    # Convert the sequences to PyTorch tensors with dtype int64\n",
        "    src_sequence = torch.tensor(src_sequence_indices, dtype=torch.int64)\n",
        "    tgt_sequence = torch.tensor(tgt_sequence_indices, dtype=torch.int64)\n",
        "\n",
        "    # Append the source and target sequences to their respective batches\n",
        "    src_batch.append(src_sequence)\n",
        "    tgt_batch.append(tgt_sequence)\n",
        "\n",
        "    # Print the output for every 2nd sample (adjust as needed)\n",
        "    print(f\"Sample {i}:\")\n",
        "    print(\"Source Sequence (Text):\", src_sequence_text)\n",
        "    print(\"Source Sequence (Indices):\", src_sequence_indices)\n",
        "    print(\"Source Sequence (Shape):\", src_sequence.shape)\n",
        "    print(\"Target Sequence (Text):\", tgt_sequence_text)\n",
        "    print(\"Target Sequence (Indices):\", tgt_sequence_indices)\n",
        "    print(\"Target Sequence (Shape):\", tgt_sequence.shape)"
      ],
      "metadata": {
        "colab": {
          "base_uri": "https://localhost:8080/"
        },
        "id": "bqOizejJSUKm",
        "outputId": "54f9df6d-df81-48ea-a9f8-18a8141aa50d"
      },
      "execution_count": 7,
      "outputs": [
        {
          "output_type": "stream",
          "name": "stdout",
          "text": [
            "Sample 0:\n",
            "Source Sequence (Text): ['in', 'the', 'film', 'is', 'shown', 'for', 'artistic', 'purposes', 'rather', 'than']\n",
            "Source Sequence (Indices): [14, 4, 25, 11, 693, 20, 1668, 4919, 253, 82]\n",
            "Source Sequence (Shape): torch.Size([10])\n",
            "Target Sequence (Text): ['the', 'film', 'is', 'shown', 'for', 'artistic', 'purposes', 'rather', 'than', 'just']\n",
            "Target Sequence (Indices): [4, 25, 11, 693, 20, 1668, 4919, 253, 82, 45]\n",
            "Target Sequence (Shape): torch.Size([10])\n",
            "Sample 1:\n",
            "Source Sequence (Text): ['making', 'some', 'sort', 'of', 'documentary', 'on', 'what', 'the', 'average', 'swede']\n",
            "Source Sequence (Indices): [233, 55, 398, 9, 814, 28, 54, 4, 753, 22750]\n",
            "Source Sequence (Shape): torch.Size([10])\n",
            "Target Sequence (Text): ['some', 'sort', 'of', 'documentary', 'on', 'what', 'the', 'average', 'swede', 'thought']\n",
            "Target Sequence (Indices): [55, 398, 9, 814, 28, 54, 4, 753, 22750, 207]\n",
            "Target Sequence (Shape): torch.Size([10])\n"
          ]
        }
      ]
    },
    {
      "cell_type": "code",
      "source": [
        "BLOCK_SIZE=30\n",
        "def collate_batch(batch):\n",
        "    src_batch, tgt_batch = [], []\n",
        "    for _,_textt in batch:\n",
        "      src_sequence,tgt_sequence=get_sample(BLOCK_SIZE,tokenizer(_textt))\n",
        "      src_sequence=vocab(src_sequence)\n",
        "      tgt_sequence=vocab(tgt_sequence)\n",
        "      src_sequence= torch.tensor(src_sequence, dtype=torch.int64)\n",
        "      tgt_sequence = torch.tensor(tgt_sequence, dtype=torch.int64)\n",
        "      src_batch.append(src_sequence)\n",
        "      tgt_batch.append(tgt_sequence)\n",
        "\n",
        "\n",
        "    src_batch = pad_sequence(src_batch, padding_value=PAD_IDX, batch_first=False)\n",
        "    tgt_batch = pad_sequence(tgt_batch, padding_value=PAD_IDX, batch_first=False)\n",
        "\n",
        "    return src_batch.to(DEVICE), tgt_batch.to(DEVICE)"
      ],
      "metadata": {
        "id": "yGo0vgXASdw-"
      },
      "execution_count": 8,
      "outputs": []
    },
    {
      "cell_type": "code",
      "source": [
        "BATCH_SIZE=1\n",
        "dataloader = DataLoader(train_iter, batch_size=BATCH_SIZE, shuffle=True, collate_fn=collate_batch)\n",
        "val_dataloader= DataLoader(val_iter , batch_size=BATCH_SIZE, shuffle=True, collate_fn=collate_batch)"
      ],
      "metadata": {
        "id": "RBJjycv-SiCI"
      },
      "execution_count": 9,
      "outputs": []
    },
    {
      "cell_type": "code",
      "source": [
        "dataset=iter(dataloader)\n",
        "for sample in range(2):\n",
        "  src,trt=next(dataset)\n",
        "  print(\"sample\",sample)\n",
        "  print(\"sorce:\",index_to_en(src))\n",
        "  print(\"\\n\")\n",
        "  print(\"target:\",index_to_en(trt))\n",
        "  print(\"\\n\")\n",
        "  print(trt.shape)\n",
        "  print(src.shape)\n",
        "  print(\"\\n\")\n"
      ],
      "metadata": {
        "id": "1u9MGVCyWEE_",
        "colab": {
          "base_uri": "https://localhost:8080/"
        },
        "outputId": "23a86110-2b2e-442e-9dea-b778399c1f5d"
      },
      "execution_count": 11,
      "outputs": [
        {
          "output_type": "stream",
          "name": "stdout",
          "text": [
            "sample 0\n",
            "sorce: right from the start . this is not a movie that i liked . i didn ' t hate it in the way of some movies that insult your intelligence\n",
            "\n",
            "\n",
            "target: from the start . this is not a movie that i liked . i didn ' t hate it in the way of some movies that insult your intelligence ,\n",
            "\n",
            "\n",
            "torch.Size([30, 1])\n",
            "torch.Size([30, 1])\n",
            "\n",
            "\n",
            "sample 1\n",
            "sorce: of the worst movies i have ever seen . the dialogue is ghastly , the horror effects are laughable . the only thing that kept me watching was the ever-splendid\n",
            "\n",
            "\n",
            "target: the worst movies i have ever seen . the dialogue is ghastly , the horror effects are laughable . the only thing that kept me watching was the ever-splendid and\n",
            "\n",
            "\n",
            "torch.Size([30, 1])\n",
            "torch.Size([30, 1])\n",
            "\n",
            "\n"
          ]
        }
      ]
    },
    {
      "cell_type": "markdown",
      "source": [
        "## Masking"
      ],
      "metadata": {
        "id": "5EcepOhR0Hzw"
      }
    },
    {
      "cell_type": "code",
      "source": [
        "def generate_square_subsequent_mask(sz,device=DEVICE):\n",
        "    mask = (torch.triu(torch.ones((sz, sz), device=device)) == 1).transpose(0, 1)\n",
        "    mask = mask.float().masked_fill(mask == 0, float('-inf')).masked_fill(mask == 1, float(0.0))\n",
        "    return mask\n",
        "\n",
        "def create_mask(src,device=DEVICE):\n",
        "    src_seq_len = src.shape[0]\n",
        "    src_mask = generate_square_subsequent_mask(src_seq_len)\n",
        "    src_padding_mask = (src == PAD_IDX).transpose(0, 1)\n",
        "    return src_mask,src_padding_mask"
      ],
      "metadata": {
        "id": "3SPmc87rxh2i"
      },
      "execution_count": 20,
      "outputs": []
    },
    {
      "cell_type": "markdown",
      "source": [
        "## Positional Encoding"
      ],
      "metadata": {
        "id": "yqtmWGP52lxI"
      }
    },
    {
      "cell_type": "code",
      "source": [
        "# add positional information to the input tokens\n",
        "class PositionalEncoding(nn.Module):\n",
        "    def __init__(self, emb_size: int, dropout: float, maxlen: int = 5000):\n",
        "        super(PositionalEncoding, self).__init__()\n",
        "        den = torch.exp(- torch.arange(0, emb_size, 2)* math.log(10000) / emb_size)\n",
        "        pos = torch.arange(0, maxlen).reshape(maxlen, 1)\n",
        "        pos_embedding = torch.zeros((maxlen, emb_size))\n",
        "        pos_embedding[:, 0::2] = torch.sin(pos * den)\n",
        "        pos_embedding[:, 1::2] = torch.cos(pos * den)\n",
        "        pos_embedding = pos_embedding.unsqueeze(-2)\n",
        "\n",
        "        self.dropout = nn.Dropout(dropout)\n",
        "        self.register_buffer('pos_embedding', pos_embedding)\n",
        "\n",
        "    def forward(self, token_embedding: Tensor):\n",
        "        return self.dropout(token_embedding + self.pos_embedding[:token_embedding.size(0), :])"
      ],
      "metadata": {
        "id": "_ONcRC7_2npp"
      },
      "execution_count": 13,
      "outputs": []
    },
    {
      "cell_type": "markdown",
      "source": [
        "## Token Embedding"
      ],
      "metadata": {
        "id": "inQscUKl2o9g"
      }
    },
    {
      "cell_type": "code",
      "source": [
        "class TokenEmbedding(nn.Module):\n",
        "    def __init__(self, vocab_size: int, emb_size):\n",
        "        super(TokenEmbedding, self).__init__()\n",
        "        self.embedding = nn.Embedding(vocab_size, emb_size)\n",
        "        self.emb_size = emb_size\n",
        "\n",
        "    def forward(self, tokens: Tensor):\n",
        "        return self.embedding(tokens.long()) * math.sqrt(self.emb_size)"
      ],
      "metadata": {
        "id": "tvAa9tn-2rQ0"
      },
      "execution_count": 14,
      "outputs": []
    },
    {
      "cell_type": "markdown",
      "source": [
        "## Custom GPT model architecture"
      ],
      "metadata": {
        "id": "FTpVx9CB4-w4"
      }
    },
    {
      "cell_type": "code",
      "source": [
        "class CustomGPTModel(nn.Module):\n",
        "    def __init__(self, embed_size,vocab_size, num_heads, num_layers, max_seq_len=500,dropout=0.1):\n",
        "\n",
        "        super().__init__()\n",
        "\n",
        "        self.init_weights()\n",
        "        self.embed = nn.Embedding(vocab_size, embed_size)\n",
        "        self.positional_encoding = PositionalEncoding(embed_size, dropout=dropout)\n",
        "\n",
        "        print( embed_size )\n",
        "\n",
        "\n",
        "        # Remaining layers are part of the TransformerDecoder\n",
        "        encoder_layers = nn.TransformerEncoderLayer(d_model=embed_size, nhead=num_heads, dropout=dropout)\n",
        "        self.transformer_encoder = nn.TransformerEncoder(encoder_layers, num_layers=num_layers)\n",
        "        self.embed_size = embed_size\n",
        "        self.lm_head = nn.Linear(embed_size, vocab_size)\n",
        "\n",
        "    def init_weights(self):\n",
        "      for p in self.parameters():\n",
        "          if p.dim() > 1:\n",
        "              nn.init.xavier_uniform_(p)\n",
        "\n",
        "    def create_mask(src,device=DEVICE):\n",
        "        src_seq_len = src.shape[0]\n",
        "        src_mask = nn.Transformer.generate_square_subsequent_mask(src_seq_len)\n",
        "        src_padding_mask = (src == PAD_IDX).transpose(0, 1)\n",
        "        return src_mask,src_padding_mask\n",
        "\n",
        "    def decoder(self, x,src_mask):\n",
        "        seq_length = x.size(0)\n",
        "\n",
        "        # Add positional embeddings to the input embeddings\n",
        "        x = self.embed(x)* math.sqrt(self.embed_size)\n",
        "        x = self.positional_encoding(x)\n",
        "\n",
        "        if src_mask is None:\n",
        "            \"\"\"Generate a square causal mask for the sequence. The masked positions are filled with float('-inf').\n",
        "            Unmasked positions are filled with float(0.0).\n",
        "            \"\"\"\n",
        "            src_mask, src_padding_mask = create_mask(x)\n",
        "\n",
        "        output = self.transformer_encoder(x, src_mask)\n",
        "        logits = self.lm_head(x)\n",
        "        return logits\n",
        "\n",
        "    def forward(self,x,src_mask=None,key_padding_mask=None):\n",
        "\n",
        "        seq_length = x.size(0)\n",
        "\n",
        "        # Add positional embeddings to the input embeddings\n",
        "        x = self.embed(x)* math.sqrt(self.embed_size) #src = self.embedding(src) * math.sqrt(self.d_model)\n",
        "        x = self.positional_encoding(x)\n",
        "\n",
        "\n",
        "        if src_mask is None:\n",
        "            \"\"\"Generate a square causal mask for the sequence. The masked positions are filled with float('-inf').\n",
        "            Unmasked positions are filled with float(0.0).\n",
        "            \"\"\"\n",
        "            src_mask, src_padding_mask = create_mask(x)\n",
        "\n",
        "        output = self.transformer_encoder(x, src_mask,key_padding_mask)\n",
        "        x = self.lm_head(x)\n",
        "\n",
        "        return x"
      ],
      "metadata": {
        "id": "B77i8z5W4_n1"
      },
      "execution_count": 15,
      "outputs": []
    },
    {
      "cell_type": "markdown",
      "source": [
        "### Model configuration and initialization"
      ],
      "metadata": {
        "id": "gPWQgZILG1mH"
      }
    },
    {
      "cell_type": "code",
      "source": [
        "ntokens = len(vocab)  # size of vocabulary\n",
        "emsize = 200  # embedding dimension\n",
        "nlayers = 2  # number of ``nn.TransformerEncoderLayer`` in ``nn.TransformerEncoder``\n",
        "nhead = 2  # number of heads in ``nn.MultiheadAttention``\n",
        "dropout = 0.2  # dropout probability\n",
        "\n",
        "model = CustomGPTModel(embed_size=emsize, num_heads=nhead, num_layers=nlayers, vocab_size=ntokens,dropout=dropout).to(DEVICE)"
      ],
      "metadata": {
        "colab": {
          "base_uri": "https://localhost:8080/"
        },
        "id": "FXb-KKUDGzef",
        "outputId": "f42be2f3-2bd5-4aca-c630-179a3f121a86"
      },
      "execution_count": 16,
      "outputs": [
        {
          "output_type": "stream",
          "name": "stdout",
          "text": [
            "200\n"
          ]
        }
      ]
    },
    {
      "cell_type": "markdown",
      "source": [
        "## Prompting"
      ],
      "metadata": {
        "id": "-QuzM_bBG9uP"
      }
    },
    {
      "cell_type": "code",
      "source": [
        "def encode_prompt(prompt, block_size=BLOCK_SIZE):\n",
        "    # Handle None prompt\n",
        "    while prompt is None:\n",
        "        prompt = input(\"Sorry, prompt cannot be empty. Please enter a valid prompt: \")\n",
        "\n",
        "    tokens = tokenizer(prompt)\n",
        "    number_of_tokens = len(tokens)\n",
        "\n",
        "    # Handle long prompts\n",
        "    if number_of_tokens > block_size:\n",
        "        tokens = tokens[-block_size:]  # Keep last block_size characters\n",
        "\n",
        "    prompt_indices = vocab(tokens)\n",
        "    prompt_encoded = torch.tensor(prompt_indices, dtype=torch.int64).reshape(-1, 1)\n",
        "    return prompt_encoded\n",
        "\n",
        "\n",
        "prompt_encoded=encode_prompt(\"This is a prompt to get model generate next words.\").to(DEVICE)\n",
        "prompt_encoded"
      ],
      "metadata": {
        "colab": {
          "base_uri": "https://localhost:8080/"
        },
        "id": "0mOdwSs1G9c_",
        "outputId": "822ee983-854b-4c12-c9bc-326ece8ad20f"
      },
      "execution_count": 17,
      "outputs": [
        {
          "output_type": "execute_result",
          "data": {
            "text/plain": [
              "tensor([[   15],\n",
              "        [   11],\n",
              "        [    6],\n",
              "        [33700],\n",
              "        [   10],\n",
              "        [   86],\n",
              "        [ 2076],\n",
              "        [ 5673],\n",
              "        [  388],\n",
              "        [  665],\n",
              "        [    3]], device='cuda:0')"
            ]
          },
          "metadata": {},
          "execution_count": 17
        }
      ]
    },
    {
      "cell_type": "code",
      "source": [
        "logits = model.decoder(prompt_encoded,src_mask=None).to(DEVICE).transpose(0, 1)\n",
        "logit_preiction =logits[:,-1]\n",
        "_, next_word_index = torch.max(logit_preiction, dim=1)\n",
        "index_to_en(next_word_index)"
      ],
      "metadata": {
        "colab": {
          "base_uri": "https://localhost:8080/",
          "height": 36
        },
        "id": "aa73RbZ_H4Ca",
        "outputId": "84ca5048-fc7a-4008-de09-5f794d21ba4d"
      },
      "execution_count": 21,
      "outputs": [
        {
          "output_type": "execute_result",
          "data": {
            "text/plain": [
              "'distortion'"
            ],
            "application/vnd.google.colaboratory.intrinsic+json": {
              "type": "string"
            }
          },
          "metadata": {},
          "execution_count": 21
        }
      ]
    },
    {
      "cell_type": "markdown",
      "source": [
        "## Autoregressive text generation"
      ],
      "metadata": {
        "id": "Tq2Y0CT1LAJ4"
      }
    },
    {
      "cell_type": "code",
      "source": [
        "#auto-regressive Language Model text generation\n",
        "def generate(model, prompt=None, max_new_tokens=500, block_size=BLOCK_SIZE, vocab=vocab, tokenizer=tokenizer):\n",
        "    # Move model to the specified device (e.g., GPU or CPU)\n",
        "    model.to(DEVICE)\n",
        "\n",
        "    # Encode the input prompt using the provided encode_prompt function\n",
        "    prompt_encoded = encode_prompt(prompt).to(DEVICE)\n",
        "    tokens = []\n",
        "\n",
        "    # Generate new tokens up to max_new_tokens\n",
        "    for _ in range(max_new_tokens):\n",
        "        # Decode the encoded prompt using the model's decoder\n",
        "        logits = model(prompt_encoded,src_mask=None,key_padding_mask=None)\n",
        "\n",
        "        # Transpose the logits to bring the sequence length to the first dimension\n",
        "        logits = logits.transpose(0, 1)\n",
        "\n",
        "        # Select the logits of the last token in the sequence\n",
        "        logit_prediction = logits[:, -1]\n",
        "\n",
        "        # Choose the most probable next token from the logits(greedy decoding)\n",
        "        next_token_encoded = torch.argmax(logit_prediction, dim=-1).reshape(-1, 1)\n",
        "\n",
        "        # If the next token is the end-of-sequence (EOS) token, stop generation\n",
        "        if next_token_encoded.item() == EOS_IDX:\n",
        "            break\n",
        "\n",
        "        # Append the next token to the prompt_encoded and keep only the last 'block_size' tokens\n",
        "        prompt_encoded = torch.cat((prompt_encoded, next_token_encoded), dim=0)[-block_size:]\n",
        "\n",
        "        # Convert the next token index to a token string using the vocabulary\n",
        "        # Move the tensor back to CPU for vocab lookup if needed\n",
        "        token_id = next_token_encoded.to('cpu').item()\n",
        "        tokens.append(vocab.get_itos()[token_id])\n",
        "\n",
        "    # Join the generated tokens into a single string and return\n",
        "    return (prompt + ' '.join(tokens))\n",
        "\n",
        "\n",
        "generate(model,prompt=\"this is the beginning of \",max_new_tokens=30,vocab=vocab,tokenizer=tokenizer)"
      ],
      "metadata": {
        "colab": {
          "base_uri": "https://localhost:8080/",
          "height": 54
        },
        "id": "WxgKQS8gLA2C",
        "outputId": "9acd98df-a7fb-44bf-f021-f89271fbeb01"
      },
      "execution_count": 22,
      "outputs": [
        {
          "output_type": "execute_result",
          "data": {
            "text/plain": [
              "'this is the beginning of distaste under-acting centre oralist bricked idolize 2003 herrmann eyeing spradling symmetric pentecost restraining asking qualifiers shamus bleibtreau regretful callous bush pulsating dave propositions slopped freaky jokes/set-ups dumping visors accidentee *want*'"
            ],
            "application/vnd.google.colaboratory.intrinsic+json": {
              "type": "string"
            }
          },
          "metadata": {},
          "execution_count": 22
        }
      ]
    },
    {
      "cell_type": "markdown",
      "source": [
        "## Training"
      ],
      "metadata": {
        "id": "difMradaLynP"
      }
    },
    {
      "cell_type": "code",
      "source": [
        "from torch.nn import CrossEntropyLoss\n",
        "loss_fn = CrossEntropyLoss(ignore_index=PAD_IDX)\n",
        "\n",
        "def evaluate(model: nn.Module, eval_data) -> float:\n",
        "    model.eval()  # turn on evaluation mode\n",
        "    total_loss = 0.\n",
        "    with torch.no_grad():\n",
        "        for src,tgt in eval_data:\n",
        "            tgt = tgt.to(DEVICE)\n",
        "            #seq_len = src.size(0)\n",
        "            logits = model(src,src_mask=None,key_padding_mask=None)\n",
        "            total_loss +=  loss_fn(logits.reshape(-1, logits.shape[-1]), tgt.reshape(-1)).item()\n",
        "    return total_loss / (len(list(eval_data)) - 1)\n",
        "\n",
        "\n",
        "evaluate(model,val_dataloader)"
      ],
      "metadata": {
        "colab": {
          "base_uri": "https://localhost:8080/"
        },
        "id": "rNtxLx4OLQ2k",
        "outputId": "b0f6eaf0-9c8a-47c8-e076-ee1f9d87d6d7"
      },
      "execution_count": 23,
      "outputs": [
        {
          "output_type": "execute_result",
          "data": {
            "text/plain": [
              "35.535376511801196"
            ]
          },
          "metadata": {},
          "execution_count": 23
        }
      ]
    },
    {
      "cell_type": "code",
      "source": [
        "optimizer = Adam(model.parameters(), lr=1e-2, weight_decay=0.01, betas=(0.9, 0.999))\n",
        "scheduler = torch.optim.lr_scheduler.StepLR(optimizer, 10000, gamma=0.9)\n",
        "\n",
        "def train(model: nn.Module,train_data) -> None:\n",
        "    model.train()  # turn on train mode\n",
        "    total_loss = 0.\n",
        "    log_interval = 10000\n",
        "    start_time = time.time()\n",
        "\n",
        "    num_batches = len(list(train_data)) // block_size\n",
        "    for batch,srctgt in enumerate(train_data):\n",
        "        src= srctgt[0]\n",
        "        tgt= srctgt[1]\n",
        "        logits = model(src,src_mask=None)\n",
        "        logits_flat = logits.reshape(-1, logits.shape[-1])\n",
        "        loss = loss_fn(logits_flat, tgt.reshape(-1))\n",
        "\n",
        "        optimizer.zero_grad()\n",
        "        loss.backward()\n",
        "        torch.nn.utils.clip_grad_norm_(model.parameters(), 0.5)\n",
        "        optimizer.step()\n",
        "        total_loss += loss.item()\n",
        "\n",
        "        if (batch % log_interval == 0 and batch > 0) or batch==42060:\n",
        "            lr = scheduler.get_last_lr()[0]\n",
        "            ms_per_batch = (time.time() - start_time) * 1000 / log_interval\n",
        "            #cur_loss = total_loss / log_interval\n",
        "            cur_loss = total_loss / batch\n",
        "            ppl = math.exp(cur_loss)\n",
        "            print(f'| epoch {epoch:3d} | {batch//block_size:5d}/{num_batches:5d} batches | '\n",
        "                  f'lr {lr:02.4f} | ms/batch {ms_per_batch:5.2f} | '\n",
        "                  f'loss {cur_loss:5.2f} | ppl {ppl:8.2f}')\n",
        "            start_time = time.time()\n",
        "\n",
        "    return total_loss"
      ],
      "metadata": {
        "id": "TzJDDH5UQpog"
      },
      "execution_count": 24,
      "outputs": []
    },
    {
      "cell_type": "code",
      "source": [
        "best_val_loss = float('inf')\n",
        "epochs = 5\n",
        "Train_losses= []\n",
        "Val_losses = []\n",
        "for epoch in range(1, epochs + 1):\n",
        "    epoch_start_time = time.time()\n",
        "    train_loss = train(model,dataloader)\n",
        "    val_loss = evaluate(model, val_dataloader)\n",
        "    val_ppl = math.exp(val_loss)\n",
        "    Train_losses.append(train_loss)\n",
        "    Val_losses.append(val_loss)\n",
        "\n",
        "    elapsed = time.time() - epoch_start_time\n",
        "    print('-' * 89)\n",
        "    print(f'| end of epoch {epoch:3d} | time: {elapsed:5.2f}s | '\n",
        "        f'valid loss {val_loss:5.2f} | valid ppl {val_ppl:8.2f}')\n",
        "    print('-' * 89)\n",
        "\n",
        "    if val_loss < best_val_loss:\n",
        "        best_val_loss = val_loss\n",
        "        torch.save(model.state_dict(), 'model_best_val_loss.pt')"
      ],
      "metadata": {
        "colab": {
          "base_uri": "https://localhost:8080/"
        },
        "id": "Q6QqF87pQsmv",
        "outputId": "28f87367-b3a9-4fad-9c5c-04e59a40560e"
      },
      "execution_count": 25,
      "outputs": [
        {
          "output_type": "stream",
          "name": "stdout",
          "text": [
            "| epoch   1 |  1000/ 1250 batches | lr 0.0100 | ms/batch 16.15 | loss  8.35 | ppl  4214.38\n",
            "-----------------------------------------------------------------------------------------\n",
            "| end of epoch   1 | time: 276.83s | valid loss  8.26 | valid ppl  3881.88\n",
            "-----------------------------------------------------------------------------------------\n",
            "| epoch   2 |  1000/ 1250 batches | lr 0.0100 | ms/batch 16.00 | loss  8.22 | ppl  3721.72\n",
            "-----------------------------------------------------------------------------------------\n",
            "| end of epoch   2 | time: 275.78s | valid loss  8.27 | valid ppl  3902.57\n",
            "-----------------------------------------------------------------------------------------\n",
            "| epoch   3 |  1000/ 1250 batches | lr 0.0100 | ms/batch 16.06 | loss  8.22 | ppl  3702.00\n",
            "-----------------------------------------------------------------------------------------\n",
            "| end of epoch   3 | time: 275.60s | valid loss  8.13 | valid ppl  3410.40\n",
            "-----------------------------------------------------------------------------------------\n",
            "| epoch   4 |  1000/ 1250 batches | lr 0.0100 | ms/batch 15.95 | loss  8.21 | ppl  3686.04\n",
            "-----------------------------------------------------------------------------------------\n",
            "| end of epoch   4 | time: 274.70s | valid loss  8.30 | valid ppl  4027.68\n",
            "-----------------------------------------------------------------------------------------\n",
            "| epoch   5 |  1000/ 1250 batches | lr 0.0100 | ms/batch 16.00 | loss  8.20 | ppl  3640.00\n",
            "-----------------------------------------------------------------------------------------\n",
            "| end of epoch   5 | time: 274.48s | valid loss  8.28 | valid ppl  3929.24\n",
            "-----------------------------------------------------------------------------------------\n"
          ]
        }
      ]
    },
    {
      "cell_type": "code",
      "source": [
        "# Calculate the number of epochs (assuming the lengths of train_losses and val_losses are equal)\n",
        "num_epochs = len(Train_losses)\n",
        "\n",
        "# Create a figure and a set of subplots\n",
        "fig, ax = plt.subplots()\n",
        "\n",
        "# Plot the training losses\n",
        "ax.plot(range(num_epochs), Train_losses, label='Training Loss', color='blue')\n",
        "\n",
        "# Plot the validation losses\n",
        "ax.plot(range(num_epochs), Val_losses, label='Validation Loss', color='orange')\n",
        "\n",
        "# Set the x-axis label\n",
        "ax.set_xlabel('Epoch')\n",
        "\n",
        "# Set the y-axis label\n",
        "ax.set_ylabel('Loss')\n",
        "\n",
        "# Set the title of the plot\n",
        "ax.set_title('Training and Validation Losses')\n",
        "\n",
        "# Add a legend to the plot\n",
        "ax.legend()\n",
        "\n",
        "# Show the plot\n",
        "plt.show()"
      ],
      "metadata": {
        "colab": {
          "base_uri": "https://localhost:8080/",
          "height": 472
        },
        "id": "8g754Er2QvBm",
        "outputId": "ec828d5e-d0b1-4bc5-b99c-9a922b2f474c"
      },
      "execution_count": 26,
      "outputs": [
        {
          "output_type": "display_data",
          "data": {
            "text/plain": [
              "<Figure size 640x480 with 1 Axes>"
            ],
            "image/png": "[encoded data removed]"
          },
          "metadata": {}
        }
      ]
    },
    {
      "cell_type": "markdown",
      "source": [
        "## Loading the saved model"
      ],
      "metadata": {
        "id": "AA9NRJB0Q6BG"
      }
    },
    {
      "cell_type": "code",
      "source": [
        "#!wget 'https://cf-courses-data.s3.us.cloud-object-storage.appdomain.cloud/kyn1_OsXrzjef0xihlsXmg.pt'\n",
        "#model.load_state_dict(torch.load('kyn1_OsXrzjef0xihlsXmg.pt',map_location=torch.device('cpu')))"
      ],
      "metadata": {
        "id": "63alA5-uQztO"
      },
      "execution_count": null,
      "outputs": []
    },
    {
      "cell_type": "markdown",
      "source": [
        "## Loading GPT2 model from HuggingFace"
      ],
      "metadata": {
        "id": "QK7CYIuSQ7eX"
      }
    },
    {
      "cell_type": "code",
      "source": [
        "# Load the tokenizer and model\n",
        "tokenizer1 = GPT2Tokenizer.from_pretrained(\"gpt2\")\n",
        "model = GPT2LMHeadModel.from_pretrained(\"gpt2\")\n",
        "\n",
        "# Define the input prompt\n",
        "#input_text = \"Once upon a time in a faraway land,\"\n",
        "input_text = \"the movie was\"\n",
        "\n",
        "# Tokenize the input text and prepare the input for the model\n",
        "input_ids = tokenizer1.encode(input_text, return_tensors=\"pt\")\n",
        "\n",
        "# Generate text using the model\n",
        "# Set the desired length of the generated text (max_length),\n",
        "# and other generation parameters like temperature, top_k, and top_p\n",
        "max_length = 15\n",
        "temperature = 0.7\n",
        "top_k = 50\n",
        "top_p = 0.95\n",
        "\n",
        "generated_ids = model.generate(\n",
        "    input_ids,\n",
        "    max_length=max_length,\n",
        "    temperature=temperature,\n",
        "    top_k=top_k,\n",
        "    top_p=top_p,\n",
        "    pad_token_id=tokenizer1.eos_token_id,\n",
        ")\n",
        "\n",
        "# Decode the generated text\n",
        "generated_text = tokenizer1.decode(generated_ids[0], skip_special_tokens=True)\n",
        "\n",
        "# Print the input prompt and the generated text\n",
        "print(f\"Input: {input_text}\")\n",
        "print(f\"Generated Text: {generated_text}\")"
      ],
      "metadata": {
        "colab": {
          "base_uri": "https://localhost:8080/",
          "height": 245,
          "referenced_widgets": [
            "915c42f4b4aa45f7914c660af9782f61",
            "809295e957634e36bfae1c6a79ede1a9",
            "e031a36d87a74ce1a4c307e57415f79a",
            "fec5dfb9b5204f1696eb983f9cb22180",
            "2d3bb6ee57894c18b9b07bec3161a15e",
            "f302ab8769574cc082fb9980e2835d8f",
            "3d3fadf3e2ef4f43920412e82550b0f3",
            "d6d3ade00c384a1283b6f5322157ff75",
            "8599ac8d52b94b5fa95f8a5e2af1b858",
            "1b0cb2c0db7b479c85753773080e2d8e",
            "2923b35a1e234d6a941ef81df8bdaf50",
            "5de633ca4c98478a8fda840509e96b38",
            "6aaafad10f7649d09c4872fcb6af0481",
            "68713400d4ba4a05a26a54432ad8c387",
            "7bfd7cfafa074a9c80a53d2dac4647a2",
            "a23ab371e7bd46a6bd059c461c62d9c7",
            "320b0280ccf64a5b9ceb4251a773d2e0",
            "be0a5783b7ef4a81892c3e7dc71aca88",
            "875c8f2b61f042bb85681d35a3e11ed8",
            "4836585901e046d89335a769703619f7",
            "3390126b1b6b46038d029cf22e0cabb1",
            "b9d0a2d29a5447f9a39cd13761dfc265",
            "6a45608c6de3476788567369a228cad3",
            "fa6775b0647040f79207c342a7acd052",
            "4fed57f49bde4667b091baea3b1f9582",
            "88b7913f1d5a4706abc26560d579fa26",
            "133223a9747a4164a7f5b32823da40cc",
            "b7a4bf9100c6494ab30d5e699670c0ab",
            "5d141869bc9444a8aa2111889462f293",
            "623eaf2a9af84fa8b3dacd59dfbdf933",
            "5d055a560d914d24bf29a4aeccb91b8c",
            "bb33aec95e634c95954abfd7dfdec37c",
            "0b23a698397e4dbab806d63f9d2ce512",
            "5c51e0103edd494d9a15671e6c24b53a",
            "01b3dcb113c94cf78520a25b38ad8336",
            "23d11458222b4cb3b7acba11e972c8f3",
            "e7c382827e4240769c81895a62cc4fc4",
            "9e9b934577c844ffad48ad2138b83ffe",
            "83e0f357d9c6462d86fda2eaaa48e0f8",
            "5e309172a5d143bc9dbd499e93d9683f",
            "fa2427e6fe88488084d6af1853be0481",
            "d8a933e273f643459e91d46e006a0ca1",
            "4dc82e59fdd2459e9113a161963c79e0",
            "a51c5c81297043e981e9fe714c243488",
            "34c1897efd6c40b49d193d3392c03797",
            "697d11c571074982bdfbdea340dbcc57",
            "267fc628b1be4f1384d7d938db9e28f4",
            "e65312f418e64bc8b77a44b7368988a9",
            "fa9dfa0c9f6e4ea1a603efd273c7c858",
            "4ecccab28ca247358ac87a5bd57a3c42",
            "ea767a47fda3480b8074621518a92b46",
            "269c29cf146c4f909fe6510acceb766d",
            "40ef3589229744dab5ae769e71325d32",
            "42de51221ef7419eb2be782b12a2396f",
            "a31b2bee466242f18011da445cb0d8e3",
            "2beafaecd45640e3b73bd166e69caa62",
            "cc948dc8bb9e44869fa24975b9bf579e",
            "72fcb4ed790842dab5c1e29910cd022b",
            "e09f02baba8b47b0a79d2e8c03d451c9",
            "88a8f347397f4bca9223af8f360ceec4",
            "7c2b1bebb961404f87f841e8ec2e4f76",
            "21e191b2843b4bb0926d25ee4fd49932",
            "04bac1f7e17d42449893a00a28bf187e",
            "683daf51de85419888878539caf80f95",
            "8aa11cfa25ae47488fa61a0239fa91c0",
            "c3982b5bfbbd4c9cae0bff767d86d05c"
          ]
        },
        "id": "gPwgW2SGTr3F",
        "outputId": "d9f3f651-9345-4f4b-e5a2-a5524b5c2ce9"
      },
      "execution_count": 27,
      "outputs": [
        {
          "output_type": "display_data",
          "data": {
            "text/plain": [
              "vocab.json:   0%|          | 0.00/1.04M [00:00<?, ?B/s]"
            ],
            "application/vnd.jupyter.widget-view+json": {
              "version_major": 2,
              "version_minor": 0,
              "model_id": "915c42f4b4aa45f7914c660af9782f61"
            }
          },
          "metadata": {}
        },
        {
          "output_type": "display_data",
          "data": {
            "text/plain": [
              "merges.txt:   0%|          | 0.00/456k [00:00<?, ?B/s]"
            ],
            "application/vnd.jupyter.widget-view+json": {
              "version_major": 2,
              "version_minor": 0,
              "model_id": "5de633ca4c98478a8fda840509e96b38"
            }
          },
          "metadata": {}
        },
        {
          "output_type": "display_data",
          "data": {
            "text/plain": [
              "tokenizer_config.json:   0%|          | 0.00/26.0 [00:00<?, ?B/s]"
            ],
            "application/vnd.jupyter.widget-view+json": {
              "version_major": 2,
              "version_minor": 0,
              "model_id": "6a45608c6de3476788567369a228cad3"
            }
          },
          "metadata": {}
        },
        {
          "output_type": "display_data",
          "data": {
            "text/plain": [
              "config.json:   0%|          | 0.00/665 [00:00<?, ?B/s]"
            ],
            "application/vnd.jupyter.widget-view+json": {
              "version_major": 2,
              "version_minor": 0,
              "model_id": "5c51e0103edd494d9a15671e6c24b53a"
            }
          },
          "metadata": {}
        },
        {
          "output_type": "display_data",
          "data": {
            "text/plain": [
              "model.safetensors:   0%|          | 0.00/548M [00:00<?, ?B/s]"
            ],
            "application/vnd.jupyter.widget-view+json": {
              "version_major": 2,
              "version_minor": 0,
              "model_id": "34c1897efd6c40b49d193d3392c03797"
            }
          },
          "metadata": {}
        },
        {
          "output_type": "display_data",
          "data": {
            "text/plain": [
              "generation_config.json:   0%|          | 0.00/124 [00:00<?, ?B/s]"
            ],
            "application/vnd.jupyter.widget-view+json": {
              "version_major": 2,
              "version_minor": 0,
              "model_id": "2beafaecd45640e3b73bd166e69caa62"
            }
          },
          "metadata": {}
        },
        {
          "output_type": "stream",
          "name": "stdout",
          "text": [
            "Input: the movie was\n",
            "Generated Text: the movie was a bit of a disappointment, but it was a great movie\n"
          ]
        }
      ]
    },
    {
      "cell_type": "code",
      "source": [],
      "metadata": {
        "id": "A8xiSDJEdqyk"
      },
      "execution_count": null,
      "outputs": []
    }
  ]
}